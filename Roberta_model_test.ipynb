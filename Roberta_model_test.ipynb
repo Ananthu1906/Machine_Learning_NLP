{
 "cells": [
  {
   "cell_type": "code",
   "execution_count": 29,
   "metadata": {},
   "outputs": [],
   "source": [
    "#import all the libraries\n",
    "import pandas as pd\n",
    "import matplotlib.pyplot as plt\n",
    "import numpy as np\n",
    "import re\n",
    "from transformers import pipeline\n",
    "from googletrans import Translator\n",
    "import spacy\n",
    "from sklearn.model_selection import train_test_split\n",
    "from sklearn.preprocessing import LabelEncoder\n",
    "from sklearn.ensemble import RandomForestClassifier\n",
    "from sklearn.metrics import classification_report, f1_score, precision_score, recall_score, confusion_matrix\n"
   ]
  },
  {
   "cell_type": "code",
   "execution_count": 30,
   "metadata": {},
   "outputs": [],
   "source": [
    "df = pd.read_csv('test_4.csv')"
   ]
  },
  {
   "cell_type": "code",
   "execution_count": 31,
   "metadata": {},
   "outputs": [
    {
     "data": {
      "text/plain": [
       "(1000, 6)"
      ]
     },
     "execution_count": 31,
     "metadata": {},
     "output_type": "execute_result"
    }
   ],
   "source": [
    "df.shape"
   ]
  },
  {
   "cell_type": "code",
   "execution_count": 32,
   "metadata": {},
   "outputs": [
    {
     "data": {
      "text/plain": [
       "<bound method NDFrame.describe of                                          DealerComment  \\\n",
       "0    * ******************************SKARGA********...   \n",
       "1    ******************************REKL************...   \n",
       "2    ******************************Klgomål*********...   \n",
       "3    ******************************REKL************...   \n",
       "4    ******************************INCIDENT********...   \n",
       "..                                                 ...   \n",
       "995  * ******************************SKARGA********...   \n",
       "996  ******************************SICAYET*********...   \n",
       "997  * ******************************SKARGA********...   \n",
       "998  * ******************************REKL**********...   \n",
       "999  * ******************************TIPO_DANNO****...   \n",
       "\n",
       "                     Component                Failure     DefectivePart  \\\n",
       "0                     BEARINGS                  NOISE    WHEEL BEARINGS   \n",
       "1                  RAIN SENSOR   INCORRECT ADJUSTMENT            SENSOR   \n",
       "2                    EGR VALVE            WATER LEAKS         EGR VALVE   \n",
       "3                BRAKE CALIPER               BLOCKAGE      BRAKE SADDLE   \n",
       "4                      SLEEVES                  BREAK     RUBBER SLEEVE   \n",
       "..                         ...                    ...               ...   \n",
       "995       EXHAUST FLANGED TUBE                  BREAK         HOSE CLIP   \n",
       "996        ALTERNATOR ASSEMBLY  LOW OUTPUT/EFFICIENCY        ALTERNATOR   \n",
       "997          GEAR CONTROL RODS     WATER INFILTRATION  FLEXIBLE CONTROL   \n",
       "998  OIL LINE TO HEAT XCHANGER              OIL LEAKS    HYDRAULIC LINE   \n",
       "999              OXYGEN SENSOR          SHORT CIRCUIT            SENSOR   \n",
       "\n",
       "     PartsReplaced         Cost  \n",
       "0              5.0   299.776842  \n",
       "1              1.0    67.360000  \n",
       "2              1.0  1106.880000  \n",
       "3              1.5   443.450000  \n",
       "4              1.0   153.130000  \n",
       "..             ...          ...  \n",
       "995            1.0   105.854739  \n",
       "996            1.0   202.864000  \n",
       "997            0.0    52.850526  \n",
       "998           16.0   548.920000  \n",
       "999            1.0   111.690000  \n",
       "\n",
       "[1000 rows x 6 columns]>"
      ]
     },
     "execution_count": 32,
     "metadata": {},
     "output_type": "execute_result"
    }
   ],
   "source": [
    "df.describe"
   ]
  },
  {
   "cell_type": "code",
   "execution_count": 33,
   "metadata": {},
   "outputs": [
    {
     "name": "stdout",
     "output_type": "stream",
     "text": [
      "<class 'pandas.core.frame.DataFrame'>\n",
      "RangeIndex: 1000 entries, 0 to 999\n",
      "Data columns (total 6 columns):\n",
      " #   Column         Non-Null Count  Dtype  \n",
      "---  ------         --------------  -----  \n",
      " 0   DealerComment  1000 non-null   object \n",
      " 1   Component      1000 non-null   object \n",
      " 2   Failure        1000 non-null   object \n",
      " 3   DefectivePart  1000 non-null   object \n",
      " 4   PartsReplaced  1000 non-null   float64\n",
      " 5   Cost           1000 non-null   float64\n",
      "dtypes: float64(2), object(4)\n",
      "memory usage: 47.0+ KB\n"
     ]
    }
   ],
   "source": [
    "#dataframe information\n",
    "df.info()"
   ]
  },
  {
   "cell_type": "code",
   "execution_count": 34,
   "metadata": {},
   "outputs": [
    {
     "data": {
      "text/plain": [
       "Index(['DealerComment', 'Component', 'Failure', 'DefectivePart',\n",
       "       'PartsReplaced', 'Cost'],\n",
       "      dtype='object')"
      ]
     },
     "execution_count": 34,
     "metadata": {},
     "output_type": "execute_result"
    }
   ],
   "source": [
    "#to check columns\n",
    "df.columns"
   ]
  },
  {
   "cell_type": "code",
   "execution_count": 35,
   "metadata": {},
   "outputs": [
    {
     "data": {
      "text/html": [
       "<div>\n",
       "<style scoped>\n",
       "    .dataframe tbody tr th:only-of-type {\n",
       "        vertical-align: middle;\n",
       "    }\n",
       "\n",
       "    .dataframe tbody tr th {\n",
       "        vertical-align: top;\n",
       "    }\n",
       "\n",
       "    .dataframe thead th {\n",
       "        text-align: right;\n",
       "    }\n",
       "</style>\n",
       "<table border=\"1\" class=\"dataframe\">\n",
       "  <thead>\n",
       "    <tr style=\"text-align: right;\">\n",
       "      <th></th>\n",
       "      <th>DealerComment</th>\n",
       "      <th>Component</th>\n",
       "      <th>Failure</th>\n",
       "      <th>DefectivePart</th>\n",
       "      <th>PartsReplaced</th>\n",
       "      <th>Cost</th>\n",
       "    </tr>\n",
       "  </thead>\n",
       "  <tbody>\n",
       "    <tr>\n",
       "      <th>0</th>\n",
       "      <td>* ******************************SKARGA********...</td>\n",
       "      <td>BEARINGS</td>\n",
       "      <td>NOISE</td>\n",
       "      <td>WHEEL BEARINGS</td>\n",
       "      <td>5.0</td>\n",
       "      <td>299.776842</td>\n",
       "    </tr>\n",
       "    <tr>\n",
       "      <th>1</th>\n",
       "      <td>******************************REKL************...</td>\n",
       "      <td>RAIN SENSOR</td>\n",
       "      <td>INCORRECT ADJUSTMENT</td>\n",
       "      <td>SENSOR</td>\n",
       "      <td>1.0</td>\n",
       "      <td>67.360000</td>\n",
       "    </tr>\n",
       "    <tr>\n",
       "      <th>2</th>\n",
       "      <td>******************************Klgomål*********...</td>\n",
       "      <td>EGR VALVE</td>\n",
       "      <td>WATER LEAKS</td>\n",
       "      <td>EGR VALVE</td>\n",
       "      <td>1.0</td>\n",
       "      <td>1106.880000</td>\n",
       "    </tr>\n",
       "    <tr>\n",
       "      <th>3</th>\n",
       "      <td>******************************REKL************...</td>\n",
       "      <td>BRAKE CALIPER</td>\n",
       "      <td>BLOCKAGE</td>\n",
       "      <td>BRAKE SADDLE</td>\n",
       "      <td>1.5</td>\n",
       "      <td>443.450000</td>\n",
       "    </tr>\n",
       "    <tr>\n",
       "      <th>4</th>\n",
       "      <td>******************************INCIDENT********...</td>\n",
       "      <td>SLEEVES</td>\n",
       "      <td>BREAK</td>\n",
       "      <td>RUBBER SLEEVE</td>\n",
       "      <td>1.0</td>\n",
       "      <td>153.130000</td>\n",
       "    </tr>\n",
       "  </tbody>\n",
       "</table>\n",
       "</div>"
      ],
      "text/plain": [
       "                                       DealerComment      Component  \\\n",
       "0  * ******************************SKARGA********...       BEARINGS   \n",
       "1  ******************************REKL************...    RAIN SENSOR   \n",
       "2  ******************************Klgomål*********...      EGR VALVE   \n",
       "3  ******************************REKL************...  BRAKE CALIPER   \n",
       "4  ******************************INCIDENT********...        SLEEVES   \n",
       "\n",
       "                Failure   DefectivePart  PartsReplaced         Cost  \n",
       "0                 NOISE  WHEEL BEARINGS            5.0   299.776842  \n",
       "1  INCORRECT ADJUSTMENT          SENSOR            1.0    67.360000  \n",
       "2           WATER LEAKS       EGR VALVE            1.0  1106.880000  \n",
       "3              BLOCKAGE    BRAKE SADDLE            1.5   443.450000  \n",
       "4                 BREAK   RUBBER SLEEVE            1.0   153.130000  "
      ]
     },
     "execution_count": 35,
     "metadata": {},
     "output_type": "execute_result"
    }
   ],
   "source": [
    "#to check the first five rows\n",
    "df.head()"
   ]
  },
  {
   "cell_type": "code",
   "execution_count": 36,
   "metadata": {},
   "outputs": [],
   "source": [
    "#tranlating the english column in dealer_comment\n",
    "translator = Translator()\n",
    "def translate_text(text):\n",
    "    return translator.translate(text, dest='en').text"
   ]
  },
  {
   "cell_type": "code",
   "execution_count": 37,
   "metadata": {},
   "outputs": [],
   "source": [
    "df['Translated_DealerComment'] = df['DealerComment'].apply(translate_text)"
   ]
  },
  {
   "cell_type": "code",
   "execution_count": 38,
   "metadata": {},
   "outputs": [],
   "source": [
    "df['DealerComment'] = df['DealerComment'].str.replace('*', '', regex=False).str.replace('_', ' ', regex=False)"
   ]
  },
  {
   "cell_type": "code",
   "execution_count": 39,
   "metadata": {},
   "outputs": [],
   "source": [
    "df['Translated_DealerComment'] = df['Translated_DealerComment'].str.replace('*', '', regex=False).str.replace('_', ' ', regex=False)"
   ]
  },
  {
   "cell_type": "code",
   "execution_count": 43,
   "metadata": {},
   "outputs": [
    {
     "data": {
      "text/html": [
       "<div>\n",
       "<style scoped>\n",
       "    .dataframe tbody tr th:only-of-type {\n",
       "        vertical-align: middle;\n",
       "    }\n",
       "\n",
       "    .dataframe tbody tr th {\n",
       "        vertical-align: top;\n",
       "    }\n",
       "\n",
       "    .dataframe thead th {\n",
       "        text-align: right;\n",
       "    }\n",
       "</style>\n",
       "<table border=\"1\" class=\"dataframe\">\n",
       "  <thead>\n",
       "    <tr style=\"text-align: right;\">\n",
       "      <th></th>\n",
       "      <th>DealerComment</th>\n",
       "      <th>Component</th>\n",
       "      <th>Failure</th>\n",
       "      <th>DefectivePart</th>\n",
       "      <th>PartsReplaced</th>\n",
       "      <th>Cost</th>\n",
       "      <th>Translated_DealerComment</th>\n",
       "    </tr>\n",
       "  </thead>\n",
       "  <tbody>\n",
       "    <tr>\n",
       "      <th>0</th>\n",
       "      <td>SKARGA HALAS Z PRZODU POJAZDU PODCZAS JAZDY  ...</td>\n",
       "      <td>BEARINGS</td>\n",
       "      <td>NOISE</td>\n",
       "      <td>WHEEL BEARINGS</td>\n",
       "      <td>5.0</td>\n",
       "      <td>299.776842</td>\n",
       "      <td>COMPLAINT  NOISE FROM THE FRONT OF THE VEHICL...</td>\n",
       "    </tr>\n",
       "    <tr>\n",
       "      <th>1</th>\n",
       "      <td>REKL Fehler Regensenor GRUND Regensensor defek...</td>\n",
       "      <td>RAIN SENSOR</td>\n",
       "      <td>INCORRECT ADJUSTMENT</td>\n",
       "      <td>SENSOR</td>\n",
       "      <td>1.0</td>\n",
       "      <td>67.360000</td>\n",
       "      <td>REKL  Rain sensor error  REASON Rain sensor de...</td>\n",
       "    </tr>\n",
       "    <tr>\n",
       "      <th>2</th>\n",
       "      <td>Klgomål FELSÖKNING: BILEN DRAR KYLARVÄTSKA Ors...</td>\n",
       "      <td>EGR VALVE</td>\n",
       "      <td>WATER LEAKS</td>\n",
       "      <td>EGR VALVE</td>\n",
       "      <td>1.0</td>\n",
       "      <td>1106.880000</td>\n",
       "      <td>Goals  TROUBLESHOOTING: THE CAR DRAWS COOLANT ...</td>\n",
       "    </tr>\n",
       "    <tr>\n",
       "      <th>3</th>\n",
       "      <td>REKL Vorderachsbremse rechts wird heiss. GRUND...</td>\n",
       "      <td>BRAKE CALIPER</td>\n",
       "      <td>BLOCKAGE</td>\n",
       "      <td>BRAKE SADDLE</td>\n",
       "      <td>1.5</td>\n",
       "      <td>443.450000</td>\n",
       "      <td>REKL  Front axle brake on the right is getting...</td>\n",
       "    </tr>\n",
       "    <tr>\n",
       "      <th>4</th>\n",
       "      <td>INCIDENT PERTE PUISSANCE \\nBRUIT A L ACCELERAT...</td>\n",
       "      <td>SLEEVES</td>\n",
       "      <td>BREAK</td>\n",
       "      <td>RUBBER SLEEVE</td>\n",
       "      <td>1.0</td>\n",
       "      <td>153.130000</td>\n",
       "      <td>INCIDENT  POWER LOSS \\nNOISE DURING ACCELERATI...</td>\n",
       "    </tr>\n",
       "  </tbody>\n",
       "</table>\n",
       "</div>"
      ],
      "text/plain": [
       "                                       DealerComment      Component  \\\n",
       "0   SKARGA HALAS Z PRZODU POJAZDU PODCZAS JAZDY  ...       BEARINGS   \n",
       "1  REKL Fehler Regensenor GRUND Regensensor defek...    RAIN SENSOR   \n",
       "2  Klgomål FELSÖKNING: BILEN DRAR KYLARVÄTSKA Ors...      EGR VALVE   \n",
       "3  REKL Vorderachsbremse rechts wird heiss. GRUND...  BRAKE CALIPER   \n",
       "4  INCIDENT PERTE PUISSANCE \\nBRUIT A L ACCELERAT...        SLEEVES   \n",
       "\n",
       "                Failure   DefectivePart  PartsReplaced         Cost  \\\n",
       "0                 NOISE  WHEEL BEARINGS            5.0   299.776842   \n",
       "1  INCORRECT ADJUSTMENT          SENSOR            1.0    67.360000   \n",
       "2           WATER LEAKS       EGR VALVE            1.0  1106.880000   \n",
       "3              BLOCKAGE    BRAKE SADDLE            1.5   443.450000   \n",
       "4                 BREAK   RUBBER SLEEVE            1.0   153.130000   \n",
       "\n",
       "                            Translated_DealerComment  \n",
       "0   COMPLAINT  NOISE FROM THE FRONT OF THE VEHICL...  \n",
       "1  REKL  Rain sensor error  REASON Rain sensor de...  \n",
       "2  Goals  TROUBLESHOOTING: THE CAR DRAWS COOLANT ...  \n",
       "3  REKL  Front axle brake on the right is getting...  \n",
       "4  INCIDENT  POWER LOSS \\nNOISE DURING ACCELERATI...  "
      ]
     },
     "execution_count": 43,
     "metadata": {},
     "output_type": "execute_result"
    }
   ],
   "source": [
    "df.head()"
   ]
  },
  {
   "cell_type": "code",
   "execution_count": null,
   "metadata": {},
   "outputs": [],
   "source": [
    "# components = df['Component'].dropna().unique().tolist()\n",
    "# defective_parts = df['DefectivePart'].dropna().unique().tolist()\n",
    "# failure_types = df['Failure'].dropna().unique().tolist()\n",
    "# parts_replaced = df['PartsReplaced'].dropna().unique().tolist()\n",
    "# cost_occured = df['Cost'].dropna().unique().tolist()\n",
    "\n",
    "# # Load the spaCy English model\n",
    "# nlp = spacy.load(\"en_core_web_sm\")\n",
    "\n",
    "# # Create a custom entity ruler\n",
    "# ruler = nlp.add_pipe(\"entity_ruler\", before=\"ner\")\n",
    "\n",
    "# def create_patterns(label, values):\n",
    "#     return [{\"label\": label, \"pattern\": [{\"LOWER\": str(value).lower()}]} for value in values]\n",
    "\n",
    "# # Create patterns for each type of information\n",
    "# component_patterns = create_patterns(\"DEFECTIVE_COMPONENT\", components)\n",
    "# defective_part_patterns = create_patterns(\"DEFECTIVE_PART\", defective_parts)\n",
    "# failure_patterns = create_patterns(\"FAILURE_TYPE\", failure_types)\n",
    "\n",
    "# # Convert parts_replaced to strings and filter out non-string values\n",
    "# parts_replaced = [str(part) for part in parts_replaced if isinstance(part, (int, float)) or isinstance(part, str)]\n",
    "# No_of_parts = create_patterns(\"NUM_PARTS_REPLACED\", parts_replaced)\n",
    "\n",
    "# # Convert cost_occured to strings and filter out non-string values\n",
    "# cost_occured = [str(cost) for cost in cost_occured if isinstance(cost, (int, float)) or isinstance(cost, str)]\n",
    "# Total_Cost = create_patterns(\"COST\", cost_occured)\n",
    "\n",
    "# # Add patterns for cause of failure types\n",
    "# cause_of_failure_patterns = create_patterns(\"CAUSE_OF_FAILURE\", [\"material issue\", \"human error\", \"design flaw\"])\n",
    "\n",
    "# # Add all patterns to the entity ruler\n",
    "# ruler.add_patterns(component_patterns)\n",
    "# ruler.add_patterns(defective_part_patterns)\n",
    "# ruler.add_patterns(failure_patterns)\n",
    "# ruler.add_patterns(No_of_parts)\n",
    "# ruler.add_patterns(Total_Cost)\n",
    "# ruler.add_patterns(cause_of_failure_patterns)\n",
    "\n",
    "# # Example function to extract entities\n",
    "# def extract_entities(text):\n",
    "#     doc = nlp(text)\n",
    "#     extracted_info = {ent.label_: ent.text for ent in doc.ents}\n",
    "#     return extracted_info"
   ]
  },
  {
   "cell_type": "code",
   "execution_count": null,
   "metadata": {},
   "outputs": [
    {
     "name": "stdout",
     "output_type": "stream",
     "text": [
      "                            Translated_DealerComment defective_component  \\\n",
      "0   COMPLAINT  NOISE FROM THE FRONT OF THE VEHICL...                 N/A   \n",
      "1  REKL  Rain sensor error  REASON Rain sensor de...              sensor   \n",
      "2  Goals  TROUBLESHOOTING: THE CAR DRAWS COOLANT ...               HOSES   \n",
      "3  REKL  Front axle brake on the right is getting...                 N/A   \n",
      "4  INCIDENT  POWER LOSS \\nNOISE DURING ACCELERATI...                 N/A   \n",
      "\n",
      "  defective_part failure_type num_parts_replaced total_cost cause_of_failure  \n",
      "0            N/A   ADJUSTMENT                N/A        N/A              N/A  \n",
      "1         Sensor          N/A                N/A        N/A              N/A  \n",
      "2              .          N/A                N/A        N/A              N/A  \n",
      "3              .          N/A                N/A        N/A              N/A  \n",
      "4           HOSE        NOISE                N/A        N/A              N/A  \n"
     ]
    }
   ],
   "source": [
    "# df['extracted_entities'] = df['Translated_DealerComment'].apply(lambda x: extract_entities(x) if pd.notna(x) else {})\n",
    "\n",
    "# # Split extracted entities into separate columns\n",
    "# df['defective_component'] = df['extracted_entities'].apply(lambda x: x.get(\"DEFECTIVE_COMPONENT\", \"N/A\"))\n",
    "# df['defective_part'] = df['extracted_entities'].apply(lambda x: x.get(\"DEFECTIVE_PART\", \"N/A\"))\n",
    "# df['failure_type'] = df['extracted_entities'].apply(lambda x: x.get(\"FAILURE_TYPE\", \"N/A\"))\n",
    "# df['num_parts_replaced'] = df['extracted_entities'].apply(lambda x: x.get(\"NUM_PARTS_REPLACED\", \"N/A\"))\n",
    "# df['total_cost'] = df['extracted_entities'].apply(lambda x: x.get(\"COST\", \"N/A\"))\n",
    "# df['cause_of_failure'] = df['extracted_entities'].apply(lambda x: x.get(\"CAUSE_OF_FAILURE\", \"N/A\"))\n",
    "\n",
    "# # Preview extracted information\n",
    "# print(df[['Translated_DealerComment', 'defective_component', 'defective_part', 'failure_type', 'num_parts_replaced', 'total_cost', 'cause_of_failure']].head())\n",
    "\n",
    "# # Optional: Save to a new CSV file\n",
    "# df.to_csv('extracted_entities.csv', index=False)"
   ]
  },
  {
   "cell_type": "code",
   "execution_count": null,
   "metadata": {},
   "outputs": [
    {
     "name": "stdout",
     "output_type": "stream",
     "text": [
      "                            Translated_DealerComment defective_component  \\\n",
      "0   COMPLAINT  NOISE FROM THE FRONT OF THE VEHICL...                 N/A   \n",
      "1  REKL  Rain sensor error  REASON Rain sensor de...              sensor   \n",
      "2  Goals  TROUBLESHOOTING: THE CAR DRAWS COOLANT ...               HOSES   \n",
      "3  REKL  Front axle brake on the right is getting...                 N/A   \n",
      "4  INCIDENT  POWER LOSS \\nNOISE DURING ACCELERATI...                 N/A   \n",
      "\n",
      "  defective_part failure_type num_parts_replaced total_cost cause_of_failure  \n",
      "0            N/A   ADJUSTMENT                N/A        N/A             None  \n",
      "1         Sensor          N/A                N/A        N/A             None  \n",
      "2              .          N/A                N/A        N/A             None  \n",
      "3              .          N/A                N/A        N/A             None  \n",
      "4           HOSE        NOISE                N/A        N/A             None  \n"
     ]
    }
   ],
   "source": [
    "# import pandas as pd\n",
    "# import spacy\n",
    "\n",
    "\n",
    "\n",
    "# # Get unique values for each feature after removing NaN values\n",
    "# components = df['Component'].dropna().unique().tolist()\n",
    "# defective_parts = df['DefectivePart'].dropna().unique().tolist()\n",
    "# failure_types = df['Failure'].dropna().unique().tolist()\n",
    "# parts_replaced = df['PartsReplaced'].dropna().unique().tolist()\n",
    "# cost_occured = df['Cost'].dropna().unique().tolist()\n",
    "\n",
    "# # Load the spaCy English model\n",
    "# nlp = spacy.load(\"en_core_web_sm\")\n",
    "\n",
    "# # Create a custom entity ruler\n",
    "# ruler = nlp.add_pipe(\"entity_ruler\", before=\"ner\")\n",
    "\n",
    "# # Function to create patterns\n",
    "# def create_patterns(label, values):\n",
    "#     return [{\"label\": label, \"pattern\": [{\"LOWER\": str(value).lower()}]} for value in values]\n",
    "\n",
    "# # Create patterns for each type of information\n",
    "# component_patterns = create_patterns(\"DEFECTIVE_COMPONENT\", components)\n",
    "# defective_part_patterns = create_patterns(\"DEFECTIVE_PART\", defective_parts)\n",
    "# failure_patterns = create_patterns(\"FAILURE_TYPE\", failure_types)\n",
    "# parts_replaced = [str(part) for part in parts_replaced if isinstance(part, (int, float)) or isinstance(part, str)]\n",
    "# No_of_parts = create_patterns(\"NUM_PARTS_REPLACED\", parts_replaced)\n",
    "# cost_occured = [str(cost) for cost in cost_occured if isinstance(cost, (int, float)) or isinstance(cost, str)]\n",
    "# Total_Cost = create_patterns(\"COST\", cost_occured)\n",
    "\n",
    "\n",
    "\n",
    "# # Add all patterns to the entity ruler\n",
    "# ruler.add_patterns(component_patterns)\n",
    "# ruler.add_patterns(defective_part_patterns)\n",
    "# ruler.add_patterns(failure_patterns)\n",
    "# ruler.add_patterns(No_of_parts)\n",
    "# ruler.add_patterns(Total_Cost)\n",
    "# ruler.add_patterns(cause_of_failure_patterns)\n",
    "\n",
    "# # Function to extract entities from text\n",
    "# def extract_entities(text):\n",
    "#     doc = nlp(text)\n",
    "#     return {ent.label_: ent.text for ent in doc.ents}\n",
    "\n",
    "# # Apply entity extraction to the 'Translated_DealerComment' column\n",
    "# df['extracted_entities'] = df['Translated_DealerComment'].apply(lambda x: extract_entities(x) if pd.notna(x) else {})\n",
    "\n",
    "# # Split extracted entities into separate columns\n",
    "# df['defective_component'] = df['extracted_entities'].apply(lambda x: x.get(\"DEFECTIVE_COMPONENT\", \"N/A\"))\n",
    "# df['defective_part'] = df['extracted_entities'].apply(lambda x: x.get(\"DEFECTIVE_PART\", \"N/A\"))\n",
    "# df['failure_type'] = df['extracted_entities'].apply(lambda x: x.get(\"FAILURE_TYPE\", \"N/A\"))\n",
    "# df['num_parts_replaced'] = df['extracted_entities'].apply(lambda x: x.get(\"NUM_PARTS_REPLACED\", \"N/A\"))\n",
    "# df['total_cost'] = df['extracted_entities'].apply(lambda x: x.get(\"COST\", \"N/A\"))\n",
    "# df['cause_of_failure'] = df['extracted_entities'].apply(lambda x: x.get(\"CAUSE_OF_FAILURE\"))\n",
    "\n",
    "# # Preview extracted information\n",
    "# print(df[['Translated_DealerComment', 'defective_component', 'defective_part', 'failure_type', 'num_parts_replaced', 'total_cost', 'cause_of_failure']].head())\n",
    "\n",
    "# # Optional: Save to a new CSV file\n",
    "# df.to_csv('extracted_entities.csv', index=False)\n"
   ]
  },
  {
   "cell_type": "code",
   "execution_count": 14,
   "metadata": {},
   "outputs": [],
   "source": [
    "# Initialize the zero-shot classification using pipeline\n",
    "from transformers import pipeline\n",
    "classifier = pipeline(\"zero-shot-classification\", model=\"Jiva/xlm-roberta-large-it-mnli\")\n",
    "cause_labels = ['Human_Error','Design_Flaws','Material_Issue']\n"
   ]
  },
  {
   "cell_type": "code",
   "execution_count": 15,
   "metadata": {},
   "outputs": [],
   "source": [
    "def classify_cause(text):\n",
    "    result = classifier(text, cause_labels)\n",
    "    return result['labels'][0]"
   ]
  },
  {
   "cell_type": "code",
   "execution_count": 16,
   "metadata": {},
   "outputs": [],
   "source": [
    "df['Cause_of_Failure'] = df['Translated_DealerComment'].apply(classify_cause)"
   ]
  },
  {
   "cell_type": "code",
   "execution_count": 17,
   "metadata": {},
   "outputs": [
    {
     "name": "stdout",
     "output_type": "stream",
     "text": [
      "Human_Error\n",
      "Design_Flaws\n",
      "Material_Issue\n"
     ]
    }
   ],
   "source": [
    "for cause in cause_labels:\n",
    "    df[cause] = df['Cause_of_Failure'].apply(lambda x: 1 if x == cause else 0)\n",
    "    print(cause)"
   ]
  },
  {
   "cell_type": "code",
   "execution_count": 18,
   "metadata": {},
   "outputs": [
    {
     "name": "stdout",
     "output_type": "stream",
     "text": [
      "['Human_Error', 'Design_Flaws', 'Material_Issue']\n"
     ]
    }
   ],
   "source": [
    "print(cause_labels)"
   ]
  },
  {
   "cell_type": "code",
   "execution_count": 19,
   "metadata": {},
   "outputs": [
    {
     "name": "stdout",
     "output_type": "stream",
     "text": [
      "\n",
      "Distribution of Components_Failure:\n",
      "Cause_of_Failure\n",
      "Material_Issue    0.505\n",
      "Design_Flaws      0.485\n",
      "Human_Error       0.010\n",
      "Name: proportion, dtype: float64\n"
     ]
    }
   ],
   "source": [
    "cause_distribution = df['Cause_of_Failure'].value_counts(normalize=True)\n",
    "print(\"\\nDistribution of Components_Failure:\")\n",
    "print(cause_distribution)"
   ]
  },
  {
   "cell_type": "code",
   "execution_count": 21,
   "metadata": {},
   "outputs": [],
   "source": [
    "df.to_csv(\"final_test.csv\",index=False)"
   ]
  },
  {
   "cell_type": "code",
   "execution_count": 25,
   "metadata": {},
   "outputs": [
    {
     "data": {
      "image/png": "[encoded data removed]",
      "text/plain": [
       "<Figure size 600x400 with 1 Axes>"
      ]
     },
     "metadata": {},
     "output_type": "display_data"
    },
    {
     "data": {
      "image/png": "[encoded data removed]",
      "text/plain": [
       "<Figure size 600x400 with 1 Axes>"
      ]
     },
     "metadata": {},
     "output_type": "display_data"
    },
    {
     "data": {
      "image/png": "[encoded data removed]",
      "text/plain": [
       "<Figure size 600x400 with 1 Axes>"
      ]
     },
     "metadata": {},
     "output_type": "display_data"
    },
    {
     "data": {
      "image/png": "[encoded data removed]",
      "text/plain": [
       "<Figure size 600x400 with 1 Axes>"
      ]
     },
     "metadata": {},
     "output_type": "display_data"
    }
   ],
   "source": [
    "import pandas as pd\n",
    "import matplotlib.pyplot as plt\n",
    "\n",
    "# Load the dataset\n",
    "file_path = 'final_test.csv'  # Replace with your actual file path\n",
    "df = pd.read_csv(file_path)\n",
    "\n",
    "# List of columns to analyze\n",
    "analyze = ['Cause_of_Failure','Human_Error','Design_Flaws','Material_Issue']\n",
    "\n",
    "# Loop through each column and plot its distribution\n",
    "for column in analyze:\n",
    "    plt.figure(figsize=(6, 4))\n",
    "    # Count occurrences of each value in the column\n",
    "    value_counts = df[column].value_counts()\n",
    "    \n",
    "    # Plot the distribution\n",
    "    value_counts.plot(kind='bar', color='skyblue')\n",
    "    plt.title(f'Distribution of {column}', fontsize=8)\n",
    "    plt.xlabel(column, fontsize=14)\n",
    "    plt.ylabel('Number of Occurrences', fontsize=8)\n",
    "    plt.xticks(rotation=45, ha='right')\n",
    "    plt.tight_layout()\n",
    "    \n",
    "    # Show each plot\n",
    "    plt.show()\n"
   ]
  },
  {
   "cell_type": "code",
   "execution_count": null,
   "metadata": {},
   "outputs": [
    {
     "name": "stdout",
     "output_type": "stream",
     "text": [
      "                            Translated_DealerComment defective_component  \\\n",
      "0   COMPLAINT  NOISE FROM THE FRONT OF THE VEHICL...                 N/A   \n",
      "1  REKL  Rain sensor error  REASON Rain sensor de...                 N/A   \n",
      "2  Goals  TROUBLESHOOTING: THE CAR DRAWS COOLANT ...                 N/A   \n",
      "3  REKL  Front axle brake on the right is getting...                 N/A   \n",
      "4  INCIDENT  POWER LOSS \\nNOISE DURING ACCELERATI...                 N/A   \n",
      "\n",
      "  defective_part failure_type num_parts_replaced total_cost cause_of_failure  \n",
      "0            N/A          N/A                N/A        N/A              N/A  \n",
      "1            N/A          N/A                N/A        N/A              N/A  \n",
      "2            N/A          N/A                N/A        N/A              N/A  \n",
      "3            N/A          N/A                N/A        N/A              N/A  \n",
      "4            N/A          N/A                N/A        N/A              N/A  \n"
     ]
    },
    {
     "ename": "PermissionError",
     "evalue": "[Errno 13] Permission denied: 'extracted_entities.csv'",
     "output_type": "error",
     "traceback": [
      "\u001b[1;31m---------------------------------------------------------------------------\u001b[0m",
      "\u001b[1;31mPermissionError\u001b[0m                           Traceback (most recent call last)",
      "Cell \u001b[1;32mIn[53], line 44\u001b[0m\n\u001b[0;32m     41\u001b[0m \u001b[38;5;28mprint\u001b[39m(df[[\u001b[38;5;124m'\u001b[39m\u001b[38;5;124mTranslated_DealerComment\u001b[39m\u001b[38;5;124m'\u001b[39m, \u001b[38;5;124m'\u001b[39m\u001b[38;5;124mdefective_component\u001b[39m\u001b[38;5;124m'\u001b[39m, \u001b[38;5;124m'\u001b[39m\u001b[38;5;124mdefective_part\u001b[39m\u001b[38;5;124m'\u001b[39m, \u001b[38;5;124m'\u001b[39m\u001b[38;5;124mfailure_type\u001b[39m\u001b[38;5;124m'\u001b[39m, \u001b[38;5;124m'\u001b[39m\u001b[38;5;124mnum_parts_replaced\u001b[39m\u001b[38;5;124m'\u001b[39m, \u001b[38;5;124m'\u001b[39m\u001b[38;5;124mtotal_cost\u001b[39m\u001b[38;5;124m'\u001b[39m, \u001b[38;5;124m'\u001b[39m\u001b[38;5;124mcause_of_failure\u001b[39m\u001b[38;5;124m'\u001b[39m]]\u001b[38;5;241m.\u001b[39mhead())\n\u001b[0;32m     43\u001b[0m \u001b[38;5;66;03m# Optional: Save to a new CSV file\u001b[39;00m\n\u001b[1;32m---> 44\u001b[0m \u001b[43mdf\u001b[49m\u001b[38;5;241;43m.\u001b[39;49m\u001b[43mto_csv\u001b[49m\u001b[43m(\u001b[49m\u001b[38;5;124;43m'\u001b[39;49m\u001b[38;5;124;43mextracted_entities.csv\u001b[39;49m\u001b[38;5;124;43m'\u001b[39;49m\u001b[43m,\u001b[49m\u001b[43m \u001b[49m\u001b[43mindex\u001b[49m\u001b[38;5;241;43m=\u001b[39;49m\u001b[38;5;28;43;01mFalse\u001b[39;49;00m\u001b[43m)\u001b[49m\n",
      "File \u001b[1;32mc:\\Users\\Anandvj\\Downloads\\NLP\\.venv\\Lib\\site-packages\\pandas\\util\\_decorators.py:333\u001b[0m, in \u001b[0;36mdeprecate_nonkeyword_arguments.<locals>.decorate.<locals>.wrapper\u001b[1;34m(*args, **kwargs)\u001b[0m\n\u001b[0;32m    327\u001b[0m \u001b[38;5;28;01mif\u001b[39;00m \u001b[38;5;28mlen\u001b[39m(args) \u001b[38;5;241m>\u001b[39m num_allow_args:\n\u001b[0;32m    328\u001b[0m     warnings\u001b[38;5;241m.\u001b[39mwarn(\n\u001b[0;32m    329\u001b[0m         msg\u001b[38;5;241m.\u001b[39mformat(arguments\u001b[38;5;241m=\u001b[39m_format_argument_list(allow_args)),\n\u001b[0;32m    330\u001b[0m         \u001b[38;5;167;01mFutureWarning\u001b[39;00m,\n\u001b[0;32m    331\u001b[0m         stacklevel\u001b[38;5;241m=\u001b[39mfind_stack_level(),\n\u001b[0;32m    332\u001b[0m     )\n\u001b[1;32m--> 333\u001b[0m \u001b[38;5;28;01mreturn\u001b[39;00m \u001b[43mfunc\u001b[49m\u001b[43m(\u001b[49m\u001b[38;5;241;43m*\u001b[39;49m\u001b[43margs\u001b[49m\u001b[43m,\u001b[49m\u001b[43m \u001b[49m\u001b[38;5;241;43m*\u001b[39;49m\u001b[38;5;241;43m*\u001b[39;49m\u001b[43mkwargs\u001b[49m\u001b[43m)\u001b[49m\n",
      "File \u001b[1;32mc:\\Users\\Anandvj\\Downloads\\NLP\\.venv\\Lib\\site-packages\\pandas\\core\\generic.py:3967\u001b[0m, in \u001b[0;36mNDFrame.to_csv\u001b[1;34m(self, path_or_buf, sep, na_rep, float_format, columns, header, index, index_label, mode, encoding, compression, quoting, quotechar, lineterminator, chunksize, date_format, doublequote, escapechar, decimal, errors, storage_options)\u001b[0m\n\u001b[0;32m   3956\u001b[0m df \u001b[38;5;241m=\u001b[39m \u001b[38;5;28mself\u001b[39m \u001b[38;5;28;01mif\u001b[39;00m \u001b[38;5;28misinstance\u001b[39m(\u001b[38;5;28mself\u001b[39m, ABCDataFrame) \u001b[38;5;28;01melse\u001b[39;00m \u001b[38;5;28mself\u001b[39m\u001b[38;5;241m.\u001b[39mto_frame()\n\u001b[0;32m   3958\u001b[0m formatter \u001b[38;5;241m=\u001b[39m DataFrameFormatter(\n\u001b[0;32m   3959\u001b[0m     frame\u001b[38;5;241m=\u001b[39mdf,\n\u001b[0;32m   3960\u001b[0m     header\u001b[38;5;241m=\u001b[39mheader,\n\u001b[1;32m   (...)\u001b[0m\n\u001b[0;32m   3964\u001b[0m     decimal\u001b[38;5;241m=\u001b[39mdecimal,\n\u001b[0;32m   3965\u001b[0m )\n\u001b[1;32m-> 3967\u001b[0m \u001b[38;5;28;01mreturn\u001b[39;00m \u001b[43mDataFrameRenderer\u001b[49m\u001b[43m(\u001b[49m\u001b[43mformatter\u001b[49m\u001b[43m)\u001b[49m\u001b[38;5;241;43m.\u001b[39;49m\u001b[43mto_csv\u001b[49m\u001b[43m(\u001b[49m\n\u001b[0;32m   3968\u001b[0m \u001b[43m    \u001b[49m\u001b[43mpath_or_buf\u001b[49m\u001b[43m,\u001b[49m\n\u001b[0;32m   3969\u001b[0m \u001b[43m    \u001b[49m\u001b[43mlineterminator\u001b[49m\u001b[38;5;241;43m=\u001b[39;49m\u001b[43mlineterminator\u001b[49m\u001b[43m,\u001b[49m\n\u001b[0;32m   3970\u001b[0m \u001b[43m    \u001b[49m\u001b[43msep\u001b[49m\u001b[38;5;241;43m=\u001b[39;49m\u001b[43msep\u001b[49m\u001b[43m,\u001b[49m\n\u001b[0;32m   3971\u001b[0m \u001b[43m    \u001b[49m\u001b[43mencoding\u001b[49m\u001b[38;5;241;43m=\u001b[39;49m\u001b[43mencoding\u001b[49m\u001b[43m,\u001b[49m\n\u001b[0;32m   3972\u001b[0m \u001b[43m    \u001b[49m\u001b[43merrors\u001b[49m\u001b[38;5;241;43m=\u001b[39;49m\u001b[43merrors\u001b[49m\u001b[43m,\u001b[49m\n\u001b[0;32m   3973\u001b[0m \u001b[43m    \u001b[49m\u001b[43mcompression\u001b[49m\u001b[38;5;241;43m=\u001b[39;49m\u001b[43mcompression\u001b[49m\u001b[43m,\u001b[49m\n\u001b[0;32m   3974\u001b[0m \u001b[43m    \u001b[49m\u001b[43mquoting\u001b[49m\u001b[38;5;241;43m=\u001b[39;49m\u001b[43mquoting\u001b[49m\u001b[43m,\u001b[49m\n\u001b[0;32m   3975\u001b[0m \u001b[43m    \u001b[49m\u001b[43mcolumns\u001b[49m\u001b[38;5;241;43m=\u001b[39;49m\u001b[43mcolumns\u001b[49m\u001b[43m,\u001b[49m\n\u001b[0;32m   3976\u001b[0m \u001b[43m    \u001b[49m\u001b[43mindex_label\u001b[49m\u001b[38;5;241;43m=\u001b[39;49m\u001b[43mindex_label\u001b[49m\u001b[43m,\u001b[49m\n\u001b[0;32m   3977\u001b[0m \u001b[43m    \u001b[49m\u001b[43mmode\u001b[49m\u001b[38;5;241;43m=\u001b[39;49m\u001b[43mmode\u001b[49m\u001b[43m,\u001b[49m\n\u001b[0;32m   3978\u001b[0m \u001b[43m    \u001b[49m\u001b[43mchunksize\u001b[49m\u001b[38;5;241;43m=\u001b[39;49m\u001b[43mchunksize\u001b[49m\u001b[43m,\u001b[49m\n\u001b[0;32m   3979\u001b[0m \u001b[43m    \u001b[49m\u001b[43mquotechar\u001b[49m\u001b[38;5;241;43m=\u001b[39;49m\u001b[43mquotechar\u001b[49m\u001b[43m,\u001b[49m\n\u001b[0;32m   3980\u001b[0m \u001b[43m    \u001b[49m\u001b[43mdate_format\u001b[49m\u001b[38;5;241;43m=\u001b[39;49m\u001b[43mdate_format\u001b[49m\u001b[43m,\u001b[49m\n\u001b[0;32m   3981\u001b[0m \u001b[43m    \u001b[49m\u001b[43mdoublequote\u001b[49m\u001b[38;5;241;43m=\u001b[39;49m\u001b[43mdoublequote\u001b[49m\u001b[43m,\u001b[49m\n\u001b[0;32m   3982\u001b[0m \u001b[43m    \u001b[49m\u001b[43mescapechar\u001b[49m\u001b[38;5;241;43m=\u001b[39;49m\u001b[43mescapechar\u001b[49m\u001b[43m,\u001b[49m\n\u001b[0;32m   3983\u001b[0m \u001b[43m    \u001b[49m\u001b[43mstorage_options\u001b[49m\u001b[38;5;241;43m=\u001b[39;49m\u001b[43mstorage_options\u001b[49m\u001b[43m,\u001b[49m\n\u001b[0;32m   3984\u001b[0m \u001b[43m\u001b[49m\u001b[43m)\u001b[49m\n",
      "File \u001b[1;32mc:\\Users\\Anandvj\\Downloads\\NLP\\.venv\\Lib\\site-packages\\pandas\\io\\formats\\format.py:1014\u001b[0m, in \u001b[0;36mDataFrameRenderer.to_csv\u001b[1;34m(self, path_or_buf, encoding, sep, columns, index_label, mode, compression, quoting, quotechar, lineterminator, chunksize, date_format, doublequote, escapechar, errors, storage_options)\u001b[0m\n\u001b[0;32m    993\u001b[0m     created_buffer \u001b[38;5;241m=\u001b[39m \u001b[38;5;28;01mFalse\u001b[39;00m\n\u001b[0;32m    995\u001b[0m csv_formatter \u001b[38;5;241m=\u001b[39m CSVFormatter(\n\u001b[0;32m    996\u001b[0m     path_or_buf\u001b[38;5;241m=\u001b[39mpath_or_buf,\n\u001b[0;32m    997\u001b[0m     lineterminator\u001b[38;5;241m=\u001b[39mlineterminator,\n\u001b[1;32m   (...)\u001b[0m\n\u001b[0;32m   1012\u001b[0m     formatter\u001b[38;5;241m=\u001b[39m\u001b[38;5;28mself\u001b[39m\u001b[38;5;241m.\u001b[39mfmt,\n\u001b[0;32m   1013\u001b[0m )\n\u001b[1;32m-> 1014\u001b[0m \u001b[43mcsv_formatter\u001b[49m\u001b[38;5;241;43m.\u001b[39;49m\u001b[43msave\u001b[49m\u001b[43m(\u001b[49m\u001b[43m)\u001b[49m\n\u001b[0;32m   1016\u001b[0m \u001b[38;5;28;01mif\u001b[39;00m created_buffer:\n\u001b[0;32m   1017\u001b[0m     \u001b[38;5;28;01massert\u001b[39;00m \u001b[38;5;28misinstance\u001b[39m(path_or_buf, StringIO)\n",
      "File \u001b[1;32mc:\\Users\\Anandvj\\Downloads\\NLP\\.venv\\Lib\\site-packages\\pandas\\io\\formats\\csvs.py:251\u001b[0m, in \u001b[0;36mCSVFormatter.save\u001b[1;34m(self)\u001b[0m\n\u001b[0;32m    247\u001b[0m \u001b[38;5;250m\u001b[39m\u001b[38;5;124;03m\"\"\"\u001b[39;00m\n\u001b[0;32m    248\u001b[0m \u001b[38;5;124;03mCreate the writer & save.\u001b[39;00m\n\u001b[0;32m    249\u001b[0m \u001b[38;5;124;03m\"\"\"\u001b[39;00m\n\u001b[0;32m    250\u001b[0m \u001b[38;5;66;03m# apply compression and byte/text conversion\u001b[39;00m\n\u001b[1;32m--> 251\u001b[0m \u001b[38;5;28;01mwith\u001b[39;00m \u001b[43mget_handle\u001b[49m\u001b[43m(\u001b[49m\n\u001b[0;32m    252\u001b[0m \u001b[43m    \u001b[49m\u001b[38;5;28;43mself\u001b[39;49m\u001b[38;5;241;43m.\u001b[39;49m\u001b[43mfilepath_or_buffer\u001b[49m\u001b[43m,\u001b[49m\n\u001b[0;32m    253\u001b[0m \u001b[43m    \u001b[49m\u001b[38;5;28;43mself\u001b[39;49m\u001b[38;5;241;43m.\u001b[39;49m\u001b[43mmode\u001b[49m\u001b[43m,\u001b[49m\n\u001b[0;32m    254\u001b[0m \u001b[43m    \u001b[49m\u001b[43mencoding\u001b[49m\u001b[38;5;241;43m=\u001b[39;49m\u001b[38;5;28;43mself\u001b[39;49m\u001b[38;5;241;43m.\u001b[39;49m\u001b[43mencoding\u001b[49m\u001b[43m,\u001b[49m\n\u001b[0;32m    255\u001b[0m \u001b[43m    \u001b[49m\u001b[43merrors\u001b[49m\u001b[38;5;241;43m=\u001b[39;49m\u001b[38;5;28;43mself\u001b[39;49m\u001b[38;5;241;43m.\u001b[39;49m\u001b[43merrors\u001b[49m\u001b[43m,\u001b[49m\n\u001b[0;32m    256\u001b[0m \u001b[43m    \u001b[49m\u001b[43mcompression\u001b[49m\u001b[38;5;241;43m=\u001b[39;49m\u001b[38;5;28;43mself\u001b[39;49m\u001b[38;5;241;43m.\u001b[39;49m\u001b[43mcompression\u001b[49m\u001b[43m,\u001b[49m\n\u001b[0;32m    257\u001b[0m \u001b[43m    \u001b[49m\u001b[43mstorage_options\u001b[49m\u001b[38;5;241;43m=\u001b[39;49m\u001b[38;5;28;43mself\u001b[39;49m\u001b[38;5;241;43m.\u001b[39;49m\u001b[43mstorage_options\u001b[49m\u001b[43m,\u001b[49m\n\u001b[0;32m    258\u001b[0m \u001b[43m\u001b[49m\u001b[43m)\u001b[49m \u001b[38;5;28;01mas\u001b[39;00m handles:\n\u001b[0;32m    259\u001b[0m     \u001b[38;5;66;03m# Note: self.encoding is irrelevant here\u001b[39;00m\n\u001b[0;32m    260\u001b[0m     \u001b[38;5;28mself\u001b[39m\u001b[38;5;241m.\u001b[39mwriter \u001b[38;5;241m=\u001b[39m csvlib\u001b[38;5;241m.\u001b[39mwriter(\n\u001b[0;32m    261\u001b[0m         handles\u001b[38;5;241m.\u001b[39mhandle,\n\u001b[0;32m    262\u001b[0m         lineterminator\u001b[38;5;241m=\u001b[39m\u001b[38;5;28mself\u001b[39m\u001b[38;5;241m.\u001b[39mlineterminator,\n\u001b[1;32m   (...)\u001b[0m\n\u001b[0;32m    267\u001b[0m         quotechar\u001b[38;5;241m=\u001b[39m\u001b[38;5;28mself\u001b[39m\u001b[38;5;241m.\u001b[39mquotechar,\n\u001b[0;32m    268\u001b[0m     )\n\u001b[0;32m    270\u001b[0m     \u001b[38;5;28mself\u001b[39m\u001b[38;5;241m.\u001b[39m_save()\n",
      "File \u001b[1;32mc:\\Users\\Anandvj\\Downloads\\NLP\\.venv\\Lib\\site-packages\\pandas\\io\\common.py:873\u001b[0m, in \u001b[0;36mget_handle\u001b[1;34m(path_or_buf, mode, encoding, compression, memory_map, is_text, errors, storage_options)\u001b[0m\n\u001b[0;32m    868\u001b[0m \u001b[38;5;28;01melif\u001b[39;00m \u001b[38;5;28misinstance\u001b[39m(handle, \u001b[38;5;28mstr\u001b[39m):\n\u001b[0;32m    869\u001b[0m     \u001b[38;5;66;03m# Check whether the filename is to be opened in binary mode.\u001b[39;00m\n\u001b[0;32m    870\u001b[0m     \u001b[38;5;66;03m# Binary mode does not support 'encoding' and 'newline'.\u001b[39;00m\n\u001b[0;32m    871\u001b[0m     \u001b[38;5;28;01mif\u001b[39;00m ioargs\u001b[38;5;241m.\u001b[39mencoding \u001b[38;5;129;01mand\u001b[39;00m \u001b[38;5;124m\"\u001b[39m\u001b[38;5;124mb\u001b[39m\u001b[38;5;124m\"\u001b[39m \u001b[38;5;129;01mnot\u001b[39;00m \u001b[38;5;129;01min\u001b[39;00m ioargs\u001b[38;5;241m.\u001b[39mmode:\n\u001b[0;32m    872\u001b[0m         \u001b[38;5;66;03m# Encoding\u001b[39;00m\n\u001b[1;32m--> 873\u001b[0m         handle \u001b[38;5;241m=\u001b[39m \u001b[38;5;28mopen\u001b[39m(\n\u001b[0;32m    874\u001b[0m             handle,\n\u001b[0;32m    875\u001b[0m             ioargs\u001b[38;5;241m.\u001b[39mmode,\n\u001b[0;32m    876\u001b[0m             encoding\u001b[38;5;241m=\u001b[39mioargs\u001b[38;5;241m.\u001b[39mencoding,\n\u001b[0;32m    877\u001b[0m             errors\u001b[38;5;241m=\u001b[39merrors,\n\u001b[0;32m    878\u001b[0m             newline\u001b[38;5;241m=\u001b[39m\u001b[38;5;124m\"\u001b[39m\u001b[38;5;124m\"\u001b[39m,\n\u001b[0;32m    879\u001b[0m         )\n\u001b[0;32m    880\u001b[0m     \u001b[38;5;28;01melse\u001b[39;00m:\n\u001b[0;32m    881\u001b[0m         \u001b[38;5;66;03m# Binary mode\u001b[39;00m\n\u001b[0;32m    882\u001b[0m         handle \u001b[38;5;241m=\u001b[39m \u001b[38;5;28mopen\u001b[39m(handle, ioargs\u001b[38;5;241m.\u001b[39mmode)\n",
      "\u001b[1;31mPermissionError\u001b[0m: [Errno 13] Permission denied: 'extracted_entities.csv'"
     ]
    }
   ],
   "source": [
    "# from transformers import pipeline\n",
    "# import pandas as pd\n",
    "\n",
    "# # Load the zero-shot classification pipeline\n",
    "# classifier = pipeline(\"zero-shot-classification\", model=\"Jiva/xlm-roberta-large-it-mnli\")\n",
    "\n",
    "# # Define candidate labels, including specific causes of failure\n",
    "# candidate_labels = [\n",
    "#     \"DEFECTIVE_COMPONENT\", \"DEFECTIVE_PART\", \"FAILURE_TYPE\", \n",
    "#     \"NUM_PARTS_REPLACED\", \"COST\", \n",
    "#     \"Material issue\", \"Human error\", \"Design flaw\"\n",
    "# ]\n",
    "\n",
    "# # Function to perform zero-shot classification\n",
    "# def zero_shot_extract(text):\n",
    "#     if pd.isna(text):\n",
    "#         return {}\n",
    "#     result = classifier(text, candidate_labels)\n",
    "#     extracted_info = {label: text for label, score in zip(result['labels'], result['scores']) if score > 0.5}\n",
    "#     return extracted_info\n",
    "\n",
    "# # Apply zero-shot classification to extract entities\n",
    "# df['extracted_entities'] = df['Translated_DealerComment'].apply(zero_shot_extract)\n",
    "\n",
    "# # Split extracted entities into separate columns\n",
    "# df['defective_component'] = df['extracted_entities'].apply(lambda x: x.get(\"DEFECTIVE_COMPONENT\", \"N/A\"))\n",
    "# df['defective_part'] = df['extracted_entities'].apply(lambda x: x.get(\"DEFECTIVE_PART\", \"N/A\"))\n",
    "# df['failure_type'] = df['extracted_entities'].apply(lambda x: x.get(\"FAILURE_TYPE\", \"N/A\"))\n",
    "# df['num_parts_replaced'] = df['extracted_entities'].apply(lambda x: x.get(\"NUM_PARTS_REPLACED\", \"N/A\"))\n",
    "# df['total_cost'] = df['extracted_entities'].apply(lambda x: x.get(\"COST\", \"N/A\"))\n",
    "\n",
    "# # Extract cause of failure by checking specific labels\n",
    "# df['cause_of_failure'] = df['extracted_entities'].apply(lambda x: \n",
    "#     \"Material issue\" if \"Material issue\" in x else\n",
    "#     \"Human error\" if \"Human error\" in x else\n",
    "#     \"Design flaw\" if \"Design flaw\" in x else\n",
    "#     \"N/A\"\n",
    "# )\n",
    "\n",
    "# # Preview extracted information\n",
    "# print(df[['Translated_DealerComment', 'defective_component', 'defective_part', 'failure_type', 'num_parts_replaced', 'total_cost', 'cause_of_failure']].head())\n",
    "\n"
   ]
  },
  {
   "cell_type": "code",
   "execution_count": 54,
   "metadata": {},
   "outputs": [],
   "source": [
    "# Optional: Save to a new CSV file\n",
    "df.to_csv('extracted_entities1.csv', index=False)\n"
   ]
  },
  {
   "cell_type": "code",
   "execution_count": 55,
   "metadata": {},
   "outputs": [],
   "source": [
    "df = pd.read_csv('extracted_entities1.csv')"
   ]
  },
  {
   "cell_type": "code",
   "execution_count": 56,
   "metadata": {},
   "outputs": [
    {
     "data": {
      "text/html": [
       "<div>\n",
       "<style scoped>\n",
       "    .dataframe tbody tr th:only-of-type {\n",
       "        vertical-align: middle;\n",
       "    }\n",
       "\n",
       "    .dataframe tbody tr th {\n",
       "        vertical-align: top;\n",
       "    }\n",
       "\n",
       "    .dataframe thead th {\n",
       "        text-align: right;\n",
       "    }\n",
       "</style>\n",
       "<table border=\"1\" class=\"dataframe\">\n",
       "  <thead>\n",
       "    <tr style=\"text-align: right;\">\n",
       "      <th></th>\n",
       "      <th>DealerComment</th>\n",
       "      <th>Component</th>\n",
       "      <th>Failure</th>\n",
       "      <th>DefectivePart</th>\n",
       "      <th>PartsReplaced</th>\n",
       "      <th>Cost</th>\n",
       "      <th>Translated_DealerComment</th>\n",
       "      <th>extracted_entities</th>\n",
       "      <th>defective_component</th>\n",
       "      <th>defective_part</th>\n",
       "      <th>failure_type</th>\n",
       "      <th>num_parts_replaced</th>\n",
       "      <th>total_cost</th>\n",
       "      <th>cause_of_failure</th>\n",
       "    </tr>\n",
       "  </thead>\n",
       "  <tbody>\n",
       "    <tr>\n",
       "      <th>0</th>\n",
       "      <td>SKARGA HALAS Z PRZODU POJAZDU PODCZAS JAZDY  ...</td>\n",
       "      <td>BEARINGS</td>\n",
       "      <td>NOISE</td>\n",
       "      <td>WHEEL BEARINGS</td>\n",
       "      <td>5.0</td>\n",
       "      <td>299.776842</td>\n",
       "      <td>COMPLAINT  NOISE FROM THE FRONT OF THE VEHICL...</td>\n",
       "      <td>{}</td>\n",
       "      <td>NaN</td>\n",
       "      <td>NaN</td>\n",
       "      <td>NaN</td>\n",
       "      <td>NaN</td>\n",
       "      <td>NaN</td>\n",
       "      <td>NaN</td>\n",
       "    </tr>\n",
       "    <tr>\n",
       "      <th>1</th>\n",
       "      <td>REKL Fehler Regensenor GRUND Regensensor defek...</td>\n",
       "      <td>RAIN SENSOR</td>\n",
       "      <td>INCORRECT ADJUSTMENT</td>\n",
       "      <td>SENSOR</td>\n",
       "      <td>1.0</td>\n",
       "      <td>67.360000</td>\n",
       "      <td>REKL  Rain sensor error  REASON Rain sensor de...</td>\n",
       "      <td>{}</td>\n",
       "      <td>NaN</td>\n",
       "      <td>NaN</td>\n",
       "      <td>NaN</td>\n",
       "      <td>NaN</td>\n",
       "      <td>NaN</td>\n",
       "      <td>NaN</td>\n",
       "    </tr>\n",
       "    <tr>\n",
       "      <th>2</th>\n",
       "      <td>Klgomål FELSÖKNING: BILEN DRAR KYLARVÄTSKA Ors...</td>\n",
       "      <td>EGR VALVE</td>\n",
       "      <td>WATER LEAKS</td>\n",
       "      <td>EGR VALVE</td>\n",
       "      <td>1.0</td>\n",
       "      <td>1106.880000</td>\n",
       "      <td>Goals  TROUBLESHOOTING: THE CAR DRAWS COOLANT ...</td>\n",
       "      <td>{}</td>\n",
       "      <td>NaN</td>\n",
       "      <td>NaN</td>\n",
       "      <td>NaN</td>\n",
       "      <td>NaN</td>\n",
       "      <td>NaN</td>\n",
       "      <td>NaN</td>\n",
       "    </tr>\n",
       "    <tr>\n",
       "      <th>3</th>\n",
       "      <td>REKL Vorderachsbremse rechts wird heiss. GRUND...</td>\n",
       "      <td>BRAKE CALIPER</td>\n",
       "      <td>BLOCKAGE</td>\n",
       "      <td>BRAKE SADDLE</td>\n",
       "      <td>1.5</td>\n",
       "      <td>443.450000</td>\n",
       "      <td>REKL  Front axle brake on the right is getting...</td>\n",
       "      <td>{}</td>\n",
       "      <td>NaN</td>\n",
       "      <td>NaN</td>\n",
       "      <td>NaN</td>\n",
       "      <td>NaN</td>\n",
       "      <td>NaN</td>\n",
       "      <td>NaN</td>\n",
       "    </tr>\n",
       "    <tr>\n",
       "      <th>4</th>\n",
       "      <td>INCIDENT PERTE PUISSANCE \\nBRUIT A L ACCELERAT...</td>\n",
       "      <td>SLEEVES</td>\n",
       "      <td>BREAK</td>\n",
       "      <td>RUBBER SLEEVE</td>\n",
       "      <td>1.0</td>\n",
       "      <td>153.130000</td>\n",
       "      <td>INCIDENT  POWER LOSS \\nNOISE DURING ACCELERATI...</td>\n",
       "      <td>{}</td>\n",
       "      <td>NaN</td>\n",
       "      <td>NaN</td>\n",
       "      <td>NaN</td>\n",
       "      <td>NaN</td>\n",
       "      <td>NaN</td>\n",
       "      <td>NaN</td>\n",
       "    </tr>\n",
       "  </tbody>\n",
       "</table>\n",
       "</div>"
      ],
      "text/plain": [
       "                                       DealerComment      Component  \\\n",
       "0   SKARGA HALAS Z PRZODU POJAZDU PODCZAS JAZDY  ...       BEARINGS   \n",
       "1  REKL Fehler Regensenor GRUND Regensensor defek...    RAIN SENSOR   \n",
       "2  Klgomål FELSÖKNING: BILEN DRAR KYLARVÄTSKA Ors...      EGR VALVE   \n",
       "3  REKL Vorderachsbremse rechts wird heiss. GRUND...  BRAKE CALIPER   \n",
       "4  INCIDENT PERTE PUISSANCE \\nBRUIT A L ACCELERAT...        SLEEVES   \n",
       "\n",
       "                Failure   DefectivePart  PartsReplaced         Cost  \\\n",
       "0                 NOISE  WHEEL BEARINGS            5.0   299.776842   \n",
       "1  INCORRECT ADJUSTMENT          SENSOR            1.0    67.360000   \n",
       "2           WATER LEAKS       EGR VALVE            1.0  1106.880000   \n",
       "3              BLOCKAGE    BRAKE SADDLE            1.5   443.450000   \n",
       "4                 BREAK   RUBBER SLEEVE            1.0   153.130000   \n",
       "\n",
       "                            Translated_DealerComment extracted_entities  \\\n",
       "0   COMPLAINT  NOISE FROM THE FRONT OF THE VEHICL...                 {}   \n",
       "1  REKL  Rain sensor error  REASON Rain sensor de...                 {}   \n",
       "2  Goals  TROUBLESHOOTING: THE CAR DRAWS COOLANT ...                 {}   \n",
       "3  REKL  Front axle brake on the right is getting...                 {}   \n",
       "4  INCIDENT  POWER LOSS \\nNOISE DURING ACCELERATI...                 {}   \n",
       "\n",
       "   defective_component  defective_part  failure_type  num_parts_replaced  \\\n",
       "0                  NaN             NaN           NaN                 NaN   \n",
       "1                  NaN             NaN           NaN                 NaN   \n",
       "2                  NaN             NaN           NaN                 NaN   \n",
       "3                  NaN             NaN           NaN                 NaN   \n",
       "4                  NaN             NaN           NaN                 NaN   \n",
       "\n",
       "   total_cost  cause_of_failure  \n",
       "0         NaN               NaN  \n",
       "1         NaN               NaN  \n",
       "2         NaN               NaN  \n",
       "3         NaN               NaN  \n",
       "4         NaN               NaN  "
      ]
     },
     "execution_count": 56,
     "metadata": {},
     "output_type": "execute_result"
    }
   ],
   "source": [
    "df.head()"
   ]
  }
 ],
 "metadata": {
  "kernelspec": {
   "display_name": ".venv",
   "language": "python",
   "name": "python3"
  },
  "language_info": {
   "codemirror_mode": {
    "name": "ipython",
    "version": 3
   },
   "file_extension": ".py",
   "mimetype": "text/x-python",
   "name": "python",
   "nbconvert_exporter": "python",
   "pygments_lexer": "ipython3",
   "version": "3.11.9"
  }
 },
 "nbformat": 4,
 "nbformat_minor": 2
}
