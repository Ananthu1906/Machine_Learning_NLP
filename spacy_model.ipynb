{
 "cells": [
  {
   "cell_type": "code",
   "execution_count": 28,
   "metadata": {},
   "outputs": [],
   "source": [
    "#import all the libraries\n",
    "import pandas as pd\n",
    "import matplotlib.pyplot as plt\n",
    "import numpy as np\n",
    "import re\n",
    "from transformers import pipeline\n",
    "from googletrans import Translator\n",
    "import spacy\n",
    "from sklearn.model_selection import train_test_split\n",
    "from sklearn.preprocessing import LabelEncoder\n",
    "from sklearn.ensemble import RandomForestClassifier\n",
    "from sklearn.metrics import classification_report, f1_score, precision_score, recall_score, confusion_matrix\n"
   ]
  },
  {
   "cell_type": "code",
   "execution_count": 29,
   "metadata": {},
   "outputs": [],
   "source": [
    "df = pd.read_csv('test_4.csv')"
   ]
  },
  {
   "cell_type": "code",
   "execution_count": 30,
   "metadata": {},
   "outputs": [
    {
     "data": {
      "text/plain": [
       "(1000, 6)"
      ]
     },
     "execution_count": 30,
     "metadata": {},
     "output_type": "execute_result"
    }
   ],
   "source": [
    "df.shape"
   ]
  },
  {
   "cell_type": "code",
   "execution_count": 31,
   "metadata": {},
   "outputs": [
    {
     "data": {
      "text/plain": [
       "<bound method NDFrame.describe of                                          DealerComment  \\\n",
       "0    * ******************************SKARGA********...   \n",
       "1    ******************************REKL************...   \n",
       "2    ******************************Klgomål*********...   \n",
       "3    ******************************REKL************...   \n",
       "4    ******************************INCIDENT********...   \n",
       "..                                                 ...   \n",
       "995  * ******************************SKARGA********...   \n",
       "996  ******************************SICAYET*********...   \n",
       "997  * ******************************SKARGA********...   \n",
       "998  * ******************************REKL**********...   \n",
       "999  * ******************************TIPO_DANNO****...   \n",
       "\n",
       "                     Component                Failure     DefectivePart  \\\n",
       "0                     BEARINGS                  NOISE    WHEEL BEARINGS   \n",
       "1                  RAIN SENSOR   INCORRECT ADJUSTMENT            SENSOR   \n",
       "2                    EGR VALVE            WATER LEAKS         EGR VALVE   \n",
       "3                BRAKE CALIPER               BLOCKAGE      BRAKE SADDLE   \n",
       "4                      SLEEVES                  BREAK     RUBBER SLEEVE   \n",
       "..                         ...                    ...               ...   \n",
       "995       EXHAUST FLANGED TUBE                  BREAK         HOSE CLIP   \n",
       "996        ALTERNATOR ASSEMBLY  LOW OUTPUT/EFFICIENCY        ALTERNATOR   \n",
       "997          GEAR CONTROL RODS     WATER INFILTRATION  FLEXIBLE CONTROL   \n",
       "998  OIL LINE TO HEAT XCHANGER              OIL LEAKS    HYDRAULIC LINE   \n",
       "999              OXYGEN SENSOR          SHORT CIRCUIT            SENSOR   \n",
       "\n",
       "     PartsReplaced         Cost  \n",
       "0              5.0   299.776842  \n",
       "1              1.0    67.360000  \n",
       "2              1.0  1106.880000  \n",
       "3              1.5   443.450000  \n",
       "4              1.0   153.130000  \n",
       "..             ...          ...  \n",
       "995            1.0   105.854739  \n",
       "996            1.0   202.864000  \n",
       "997            0.0    52.850526  \n",
       "998           16.0   548.920000  \n",
       "999            1.0   111.690000  \n",
       "\n",
       "[1000 rows x 6 columns]>"
      ]
     },
     "execution_count": 31,
     "metadata": {},
     "output_type": "execute_result"
    }
   ],
   "source": [
    "df.describe"
   ]
  },
  {
   "cell_type": "code",
   "execution_count": 32,
   "metadata": {},
   "outputs": [
    {
     "name": "stdout",
     "output_type": "stream",
     "text": [
      "<class 'pandas.core.frame.DataFrame'>\n",
      "RangeIndex: 1000 entries, 0 to 999\n",
      "Data columns (total 6 columns):\n",
      " #   Column         Non-Null Count  Dtype  \n",
      "---  ------         --------------  -----  \n",
      " 0   DealerComment  1000 non-null   object \n",
      " 1   Component      1000 non-null   object \n",
      " 2   Failure        1000 non-null   object \n",
      " 3   DefectivePart  1000 non-null   object \n",
      " 4   PartsReplaced  1000 non-null   float64\n",
      " 5   Cost           1000 non-null   float64\n",
      "dtypes: float64(2), object(4)\n",
      "memory usage: 47.0+ KB\n"
     ]
    }
   ],
   "source": [
    "#dataframe information\n",
    "df.info()"
   ]
  },
  {
   "cell_type": "code",
   "execution_count": 33,
   "metadata": {},
   "outputs": [
    {
     "data": {
      "text/plain": [
       "Index(['DealerComment', 'Component', 'Failure', 'DefectivePart',\n",
       "       'PartsReplaced', 'Cost'],\n",
       "      dtype='object')"
      ]
     },
     "execution_count": 33,
     "metadata": {},
     "output_type": "execute_result"
    }
   ],
   "source": [
    "#to check columns\n",
    "df.columns"
   ]
  },
  {
   "cell_type": "code",
   "execution_count": 34,
   "metadata": {},
   "outputs": [
    {
     "data": {
      "text/html": [
       "<div>\n",
       "<style scoped>\n",
       "    .dataframe tbody tr th:only-of-type {\n",
       "        vertical-align: middle;\n",
       "    }\n",
       "\n",
       "    .dataframe tbody tr th {\n",
       "        vertical-align: top;\n",
       "    }\n",
       "\n",
       "    .dataframe thead th {\n",
       "        text-align: right;\n",
       "    }\n",
       "</style>\n",
       "<table border=\"1\" class=\"dataframe\">\n",
       "  <thead>\n",
       "    <tr style=\"text-align: right;\">\n",
       "      <th></th>\n",
       "      <th>DealerComment</th>\n",
       "      <th>Component</th>\n",
       "      <th>Failure</th>\n",
       "      <th>DefectivePart</th>\n",
       "      <th>PartsReplaced</th>\n",
       "      <th>Cost</th>\n",
       "    </tr>\n",
       "  </thead>\n",
       "  <tbody>\n",
       "    <tr>\n",
       "      <th>0</th>\n",
       "      <td>* ******************************SKARGA********...</td>\n",
       "      <td>BEARINGS</td>\n",
       "      <td>NOISE</td>\n",
       "      <td>WHEEL BEARINGS</td>\n",
       "      <td>5.0</td>\n",
       "      <td>299.776842</td>\n",
       "    </tr>\n",
       "    <tr>\n",
       "      <th>1</th>\n",
       "      <td>******************************REKL************...</td>\n",
       "      <td>RAIN SENSOR</td>\n",
       "      <td>INCORRECT ADJUSTMENT</td>\n",
       "      <td>SENSOR</td>\n",
       "      <td>1.0</td>\n",
       "      <td>67.360000</td>\n",
       "    </tr>\n",
       "    <tr>\n",
       "      <th>2</th>\n",
       "      <td>******************************Klgomål*********...</td>\n",
       "      <td>EGR VALVE</td>\n",
       "      <td>WATER LEAKS</td>\n",
       "      <td>EGR VALVE</td>\n",
       "      <td>1.0</td>\n",
       "      <td>1106.880000</td>\n",
       "    </tr>\n",
       "    <tr>\n",
       "      <th>3</th>\n",
       "      <td>******************************REKL************...</td>\n",
       "      <td>BRAKE CALIPER</td>\n",
       "      <td>BLOCKAGE</td>\n",
       "      <td>BRAKE SADDLE</td>\n",
       "      <td>1.5</td>\n",
       "      <td>443.450000</td>\n",
       "    </tr>\n",
       "    <tr>\n",
       "      <th>4</th>\n",
       "      <td>******************************INCIDENT********...</td>\n",
       "      <td>SLEEVES</td>\n",
       "      <td>BREAK</td>\n",
       "      <td>RUBBER SLEEVE</td>\n",
       "      <td>1.0</td>\n",
       "      <td>153.130000</td>\n",
       "    </tr>\n",
       "  </tbody>\n",
       "</table>\n",
       "</div>"
      ],
      "text/plain": [
       "                                       DealerComment      Component  \\\n",
       "0  * ******************************SKARGA********...       BEARINGS   \n",
       "1  ******************************REKL************...    RAIN SENSOR   \n",
       "2  ******************************Klgomål*********...      EGR VALVE   \n",
       "3  ******************************REKL************...  BRAKE CALIPER   \n",
       "4  ******************************INCIDENT********...        SLEEVES   \n",
       "\n",
       "                Failure   DefectivePart  PartsReplaced         Cost  \n",
       "0                 NOISE  WHEEL BEARINGS            5.0   299.776842  \n",
       "1  INCORRECT ADJUSTMENT          SENSOR            1.0    67.360000  \n",
       "2           WATER LEAKS       EGR VALVE            1.0  1106.880000  \n",
       "3              BLOCKAGE    BRAKE SADDLE            1.5   443.450000  \n",
       "4                 BREAK   RUBBER SLEEVE            1.0   153.130000  "
      ]
     },
     "execution_count": 34,
     "metadata": {},
     "output_type": "execute_result"
    }
   ],
   "source": [
    "#to check the first five rows\n",
    "df.head()"
   ]
  },
  {
   "cell_type": "code",
   "execution_count": 35,
   "metadata": {},
   "outputs": [],
   "source": [
    "#tranlating the english column in dealer_comment\n",
    "translator = Translator()\n",
    "def translate_text(text):\n",
    "    return translator.translate(text, dest='en').text"
   ]
  },
  {
   "cell_type": "code",
   "execution_count": 36,
   "metadata": {},
   "outputs": [],
   "source": [
    "df['Translated_DealerComment'] = df['DealerComment'].apply(translate_text)"
   ]
  },
  {
   "cell_type": "code",
   "execution_count": 37,
   "metadata": {},
   "outputs": [],
   "source": [
    "df['DealerComment'] = df['DealerComment'].str.replace('*', '', regex=False).str.replace('_', ' ', regex=False)"
   ]
  },
  {
   "cell_type": "code",
   "execution_count": 38,
   "metadata": {},
   "outputs": [],
   "source": [
    "df['Translated_DealerComment'] = df['Translated_DealerComment'].str.replace('*', '', regex=False).str.replace('_', ' ', regex=False)"
   ]
  },
  {
   "cell_type": "code",
   "execution_count": 39,
   "metadata": {},
   "outputs": [
    {
     "data": {
      "text/html": [
       "<div>\n",
       "<style scoped>\n",
       "    .dataframe tbody tr th:only-of-type {\n",
       "        vertical-align: middle;\n",
       "    }\n",
       "\n",
       "    .dataframe tbody tr th {\n",
       "        vertical-align: top;\n",
       "    }\n",
       "\n",
       "    .dataframe thead th {\n",
       "        text-align: right;\n",
       "    }\n",
       "</style>\n",
       "<table border=\"1\" class=\"dataframe\">\n",
       "  <thead>\n",
       "    <tr style=\"text-align: right;\">\n",
       "      <th></th>\n",
       "      <th>DealerComment</th>\n",
       "      <th>Component</th>\n",
       "      <th>Failure</th>\n",
       "      <th>DefectivePart</th>\n",
       "      <th>PartsReplaced</th>\n",
       "      <th>Cost</th>\n",
       "      <th>Translated_DealerComment</th>\n",
       "    </tr>\n",
       "  </thead>\n",
       "  <tbody>\n",
       "    <tr>\n",
       "      <th>0</th>\n",
       "      <td>SKARGA HALAS Z PRZODU POJAZDU PODCZAS JAZDY  ...</td>\n",
       "      <td>BEARINGS</td>\n",
       "      <td>NOISE</td>\n",
       "      <td>WHEEL BEARINGS</td>\n",
       "      <td>5.0</td>\n",
       "      <td>299.776842</td>\n",
       "      <td>COMPLAINT  NOISE FROM THE FRONT OF THE VEHICL...</td>\n",
       "    </tr>\n",
       "    <tr>\n",
       "      <th>1</th>\n",
       "      <td>REKL Fehler Regensenor GRUND Regensensor defek...</td>\n",
       "      <td>RAIN SENSOR</td>\n",
       "      <td>INCORRECT ADJUSTMENT</td>\n",
       "      <td>SENSOR</td>\n",
       "      <td>1.0</td>\n",
       "      <td>67.360000</td>\n",
       "      <td>REKL  Rain sensor error  REASON Rain sensor de...</td>\n",
       "    </tr>\n",
       "    <tr>\n",
       "      <th>2</th>\n",
       "      <td>Klgomål FELSÖKNING: BILEN DRAR KYLARVÄTSKA Ors...</td>\n",
       "      <td>EGR VALVE</td>\n",
       "      <td>WATER LEAKS</td>\n",
       "      <td>EGR VALVE</td>\n",
       "      <td>1.0</td>\n",
       "      <td>1106.880000</td>\n",
       "      <td>Goals  TROUBLESHOOTING: THE CAR DRAWS COOLANT ...</td>\n",
       "    </tr>\n",
       "    <tr>\n",
       "      <th>3</th>\n",
       "      <td>REKL Vorderachsbremse rechts wird heiss. GRUND...</td>\n",
       "      <td>BRAKE CALIPER</td>\n",
       "      <td>BLOCKAGE</td>\n",
       "      <td>BRAKE SADDLE</td>\n",
       "      <td>1.5</td>\n",
       "      <td>443.450000</td>\n",
       "      <td>REKL  Front axle brake on the right is getting...</td>\n",
       "    </tr>\n",
       "    <tr>\n",
       "      <th>4</th>\n",
       "      <td>INCIDENT PERTE PUISSANCE \\nBRUIT A L ACCELERAT...</td>\n",
       "      <td>SLEEVES</td>\n",
       "      <td>BREAK</td>\n",
       "      <td>RUBBER SLEEVE</td>\n",
       "      <td>1.0</td>\n",
       "      <td>153.130000</td>\n",
       "      <td>INCIDENT  POWER LOSS \\nNOISE DURING ACCELERATI...</td>\n",
       "    </tr>\n",
       "  </tbody>\n",
       "</table>\n",
       "</div>"
      ],
      "text/plain": [
       "                                       DealerComment      Component  \\\n",
       "0   SKARGA HALAS Z PRZODU POJAZDU PODCZAS JAZDY  ...       BEARINGS   \n",
       "1  REKL Fehler Regensenor GRUND Regensensor defek...    RAIN SENSOR   \n",
       "2  Klgomål FELSÖKNING: BILEN DRAR KYLARVÄTSKA Ors...      EGR VALVE   \n",
       "3  REKL Vorderachsbremse rechts wird heiss. GRUND...  BRAKE CALIPER   \n",
       "4  INCIDENT PERTE PUISSANCE \\nBRUIT A L ACCELERAT...        SLEEVES   \n",
       "\n",
       "                Failure   DefectivePart  PartsReplaced         Cost  \\\n",
       "0                 NOISE  WHEEL BEARINGS            5.0   299.776842   \n",
       "1  INCORRECT ADJUSTMENT          SENSOR            1.0    67.360000   \n",
       "2           WATER LEAKS       EGR VALVE            1.0  1106.880000   \n",
       "3              BLOCKAGE    BRAKE SADDLE            1.5   443.450000   \n",
       "4                 BREAK   RUBBER SLEEVE            1.0   153.130000   \n",
       "\n",
       "                            Translated_DealerComment  \n",
       "0   COMPLAINT  NOISE FROM THE FRONT OF THE VEHICL...  \n",
       "1  REKL  Rain sensor error  REASON Rain sensor de...  \n",
       "2  Goals  TROUBLESHOOTING: THE CAR DRAWS COOLANT ...  \n",
       "3  REKL  Front axle brake on the right is getting...  \n",
       "4  INCIDENT  POWER LOSS \\nNOISE DURING ACCELERATI...  "
      ]
     },
     "execution_count": 39,
     "metadata": {},
     "output_type": "execute_result"
    }
   ],
   "source": [
    "df.head()"
   ]
  },
  {
   "cell_type": "code",
   "execution_count": 40,
   "metadata": {},
   "outputs": [],
   "source": [
    "components = df['Component'].dropna().unique().tolist()\n",
    "defective_parts = df['DefectivePart'].dropna().unique().tolist()\n",
    "failure_types = df['Failure'].dropna().unique().tolist()\n",
    "parts_replaced = df['PartsReplaced'].dropna().unique().tolist()\n",
    "cost_occured = df['Cost'].dropna().unique().tolist()\n",
    "\n",
    "# Load the spaCy English model\n",
    "nlp = spacy.load(\"en_core_web_sm\")\n",
    "\n",
    "# Create a custom entity ruler\n",
    "ruler = nlp.add_pipe(\"entity_ruler\", before=\"ner\")\n",
    "\n",
    "def create_patterns(label, values):\n",
    "    return [{\"label\": label, \"pattern\": [{\"LOWER\": str(value).lower()}]} for value in values]\n",
    "\n",
    "# Create patterns for each type of information\n",
    "component_patterns = create_patterns(\"DEFECTIVE_COMPONENT\", components)\n",
    "defective_part_patterns = create_patterns(\"DEFECTIVE_PART\", defective_parts)\n",
    "failure_patterns = create_patterns(\"FAILURE_TYPE\", failure_types)\n",
    "\n",
    "# Convert parts_replaced to strings and filter out non-string values\n",
    "parts_replaced = [str(part) for part in parts_replaced if isinstance(part, (int, float)) or isinstance(part, str)]\n",
    "No_of_parts = create_patterns(\"NUM_PARTS_REPLACED\", parts_replaced)\n",
    "\n",
    "# Convert cost_occured to strings and filter out non-string values\n",
    "cost_occured = [str(cost) for cost in cost_occured if isinstance(cost, (int, float)) or isinstance(cost, str)]\n",
    "Total_Cost = create_patterns(\"COST\", cost_occured)\n",
    "\n",
    "# Add patterns for cause of failure types\n",
    "cause_of_failure_patterns = create_patterns(\"CAUSE_OF_FAILURE\", [\"material issue\", \"human error\", \"design flaw\"])\n",
    "\n",
    "# Add all patterns to the entity ruler\n",
    "ruler.add_patterns(component_patterns)\n",
    "ruler.add_patterns(defective_part_patterns)\n",
    "ruler.add_patterns(failure_patterns)\n",
    "ruler.add_patterns(No_of_parts)\n",
    "ruler.add_patterns(Total_Cost)\n",
    "ruler.add_patterns(cause_of_failure_patterns)\n",
    "\n",
    "# Example function to extract entities\n",
    "def extract_entities(text):\n",
    "    doc = nlp(text)\n",
    "    extracted_info = {ent.label_: ent.text for ent in doc.ents}\n",
    "    return extracted_info"
   ]
  },
  {
   "cell_type": "code",
   "execution_count": 41,
   "metadata": {},
   "outputs": [],
   "source": [
    "# Initialize the zero-shot classification using pipeline\n",
    "from transformers import pipeline\n",
    "classifier = pipeline(\"zero-shot-classification\", model=\"Jiva/xlm-roberta-large-it-mnli\")\n",
    "cause_labels = ['Human Error','Design Flaws','Material Issue']\n"
   ]
  },
  {
   "cell_type": "code",
   "execution_count": 42,
   "metadata": {},
   "outputs": [],
   "source": [
    "def classify_cause(text):\n",
    "    result = classifier(text, cause_labels)\n",
    "    return result['labels'][0]"
   ]
  },
  {
   "cell_type": "code",
   "execution_count": 43,
   "metadata": {},
   "outputs": [],
   "source": [
    "df['Cause_of_Failure'] = df['Translated_DealerComment'].apply(classify_cause)"
   ]
  },
  {
   "cell_type": "code",
   "execution_count": 44,
   "metadata": {},
   "outputs": [
    {
     "name": "stdout",
     "output_type": "stream",
     "text": [
      "Human Error\n",
      "Design Flaws\n",
      "Material Issue\n"
     ]
    }
   ],
   "source": [
    "for cause in cause_labels:\n",
    "    df[cause] = df['Cause_of_Failure'].apply(lambda x: 1 if x == cause else 0)\n",
    "    print(cause)"
   ]
  },
  {
   "cell_type": "code",
   "execution_count": 45,
   "metadata": {},
   "outputs": [
    {
     "name": "stdout",
     "output_type": "stream",
     "text": [
      "['Human Error', 'Design Flaws', 'Material Issue']\n"
     ]
    }
   ],
   "source": [
    "print(cause_labels)"
   ]
  },
  {
   "cell_type": "code",
   "execution_count": 46,
   "metadata": {},
   "outputs": [
    {
     "name": "stdout",
     "output_type": "stream",
     "text": [
      "\n",
      "Distribution of Components_Failure:\n",
      "Cause_of_Failure\n",
      "Material Issue    0.646\n",
      "Design Flaws      0.342\n",
      "Human Error       0.012\n",
      "Name: proportion, dtype: float64\n"
     ]
    }
   ],
   "source": [
    "cause_distribution = df['Cause_of_Failure'].value_counts(normalize=True)\n",
    "print(\"\\nDistribution of Components_Failure:\")\n",
    "print(cause_distribution)"
   ]
  },
  {
   "cell_type": "code",
   "execution_count": 47,
   "metadata": {},
   "outputs": [],
   "source": [
    "df.to_csv(\"failure_results.csv\",index=False)"
   ]
  },
  {
   "cell_type": "code",
   "execution_count": 63,
   "metadata": {},
   "outputs": [],
   "source": [
    "df = pd.read_csv(\"failure_results.csv\")"
   ]
  },
  {
   "cell_type": "code",
   "execution_count": 49,
   "metadata": {},
   "outputs": [
    {
     "name": "stdout",
     "output_type": "stream",
     "text": [
      "  Defective Component Defective Part Type of Failure Number of Parts Replaced  \\\n",
      "0                 N/A            N/A      ADJUSTMENT                      N/A   \n",
      "1              sensor         Sensor             N/A                      N/A   \n",
      "2               HOSES              .             N/A                      N/A   \n",
      "3                 N/A              .             N/A                      N/A   \n",
      "4                 N/A           HOSE           NOISE                      N/A   \n",
      "\n",
      "  Total Cost Cause of Failure  \n",
      "0        N/A   Material Issue  \n",
      "1        N/A   Material Issue  \n",
      "2        N/A   Material Issue  \n",
      "3        N/A   Material Issue  \n",
      "4        N/A   Material Issue  \n"
     ]
    }
   ],
   "source": [
    "def extract_features(row):\n",
    "    dealer_comment = row['Translated_DealerComment']\n",
    "    extracted_entities = extract_entities(dealer_comment)\n",
    "    cause = classify_cause(dealer_comment)\n",
    "\n",
    "    return {\n",
    "        \"Defective Component\": extracted_entities.get(\"DEFECTIVE_COMPONENT\", \"N/A\"),\n",
    "        \"Defective Part\": extracted_entities.get(\"DEFECTIVE_PART\", \"N/A\"),\n",
    "        \"Type of Failure\": extracted_entities.get(\"FAILURE_TYPE\", \"N/A\"),\n",
    "        \"Number of Parts Replaced\": extracted_entities.get(\"NUM_PARTS_REPLACED\", \"N/A\"),\n",
    "        \"Total Cost\": extracted_entities.get(\"COST\", \"N/A\"),\n",
    "        \"Cause of Failure\": cause\n",
    "    }\n",
    "\n",
    "# Apply the function to the dataset\n",
    "data_features = df.apply(extract_features, axis=1)\n",
    "\n",
    "# Convert to DataFrame for further analysis\n",
    "features_df = pd.DataFrame(data_features.tolist())\n",
    "print(features_df.head())"
   ]
  },
  {
   "cell_type": "code",
   "execution_count": 50,
   "metadata": {},
   "outputs": [
    {
     "data": {
      "text/html": [
       "<div>\n",
       "<style scoped>\n",
       "    .dataframe tbody tr th:only-of-type {\n",
       "        vertical-align: middle;\n",
       "    }\n",
       "\n",
       "    .dataframe tbody tr th {\n",
       "        vertical-align: top;\n",
       "    }\n",
       "\n",
       "    .dataframe thead th {\n",
       "        text-align: right;\n",
       "    }\n",
       "</style>\n",
       "<table border=\"1\" class=\"dataframe\">\n",
       "  <thead>\n",
       "    <tr style=\"text-align: right;\">\n",
       "      <th></th>\n",
       "      <th>Defective Component</th>\n",
       "      <th>Defective Part</th>\n",
       "      <th>Type of Failure</th>\n",
       "      <th>Number of Parts Replaced</th>\n",
       "      <th>Total Cost</th>\n",
       "      <th>Cause of Failure</th>\n",
       "    </tr>\n",
       "  </thead>\n",
       "  <tbody>\n",
       "    <tr>\n",
       "      <th>0</th>\n",
       "      <td>N/A</td>\n",
       "      <td>N/A</td>\n",
       "      <td>ADJUSTMENT</td>\n",
       "      <td>N/A</td>\n",
       "      <td>N/A</td>\n",
       "      <td>Material Issue</td>\n",
       "    </tr>\n",
       "    <tr>\n",
       "      <th>1</th>\n",
       "      <td>sensor</td>\n",
       "      <td>Sensor</td>\n",
       "      <td>N/A</td>\n",
       "      <td>N/A</td>\n",
       "      <td>N/A</td>\n",
       "      <td>Material Issue</td>\n",
       "    </tr>\n",
       "    <tr>\n",
       "      <th>2</th>\n",
       "      <td>HOSES</td>\n",
       "      <td>.</td>\n",
       "      <td>N/A</td>\n",
       "      <td>N/A</td>\n",
       "      <td>N/A</td>\n",
       "      <td>Material Issue</td>\n",
       "    </tr>\n",
       "    <tr>\n",
       "      <th>3</th>\n",
       "      <td>N/A</td>\n",
       "      <td>.</td>\n",
       "      <td>N/A</td>\n",
       "      <td>N/A</td>\n",
       "      <td>N/A</td>\n",
       "      <td>Material Issue</td>\n",
       "    </tr>\n",
       "    <tr>\n",
       "      <th>4</th>\n",
       "      <td>N/A</td>\n",
       "      <td>HOSE</td>\n",
       "      <td>NOISE</td>\n",
       "      <td>N/A</td>\n",
       "      <td>N/A</td>\n",
       "      <td>Material Issue</td>\n",
       "    </tr>\n",
       "    <tr>\n",
       "      <th>...</th>\n",
       "      <td>...</td>\n",
       "      <td>...</td>\n",
       "      <td>...</td>\n",
       "      <td>...</td>\n",
       "      <td>...</td>\n",
       "      <td>...</td>\n",
       "    </tr>\n",
       "    <tr>\n",
       "      <th>995</th>\n",
       "      <td>ENGINE</td>\n",
       "      <td>HOSE</td>\n",
       "      <td>NOISE</td>\n",
       "      <td>N/A</td>\n",
       "      <td>N/A</td>\n",
       "      <td>Material Issue</td>\n",
       "    </tr>\n",
       "    <tr>\n",
       "      <th>996</th>\n",
       "      <td>N/A</td>\n",
       "      <td>alternator</td>\n",
       "      <td>N/A</td>\n",
       "      <td>N/A</td>\n",
       "      <td>N/A</td>\n",
       "      <td>Material Issue</td>\n",
       "    </tr>\n",
       "    <tr>\n",
       "      <th>997</th>\n",
       "      <td>cables</td>\n",
       "      <td>socket</td>\n",
       "      <td>N/A</td>\n",
       "      <td>N/A</td>\n",
       "      <td>N/A</td>\n",
       "      <td>Material Issue</td>\n",
       "    </tr>\n",
       "    <tr>\n",
       "      <th>998</th>\n",
       "      <td>N/A</td>\n",
       "      <td>N/A</td>\n",
       "      <td>N/A</td>\n",
       "      <td>N/A</td>\n",
       "      <td>N/A</td>\n",
       "      <td>Material Issue</td>\n",
       "    </tr>\n",
       "    <tr>\n",
       "      <th>999</th>\n",
       "      <td>ENGINE</td>\n",
       "      <td>SENSOR</td>\n",
       "      <td>N/A</td>\n",
       "      <td>N/A</td>\n",
       "      <td>N/A</td>\n",
       "      <td>Material Issue</td>\n",
       "    </tr>\n",
       "  </tbody>\n",
       "</table>\n",
       "<p>1000 rows × 6 columns</p>\n",
       "</div>"
      ],
      "text/plain": [
       "    Defective Component Defective Part Type of Failure  \\\n",
       "0                   N/A            N/A      ADJUSTMENT   \n",
       "1                sensor         Sensor             N/A   \n",
       "2                 HOSES              .             N/A   \n",
       "3                   N/A              .             N/A   \n",
       "4                   N/A           HOSE           NOISE   \n",
       "..                  ...            ...             ...   \n",
       "995              ENGINE           HOSE           NOISE   \n",
       "996                 N/A     alternator             N/A   \n",
       "997              cables         socket             N/A   \n",
       "998                 N/A            N/A             N/A   \n",
       "999              ENGINE         SENSOR             N/A   \n",
       "\n",
       "    Number of Parts Replaced Total Cost Cause of Failure  \n",
       "0                        N/A        N/A   Material Issue  \n",
       "1                        N/A        N/A   Material Issue  \n",
       "2                        N/A        N/A   Material Issue  \n",
       "3                        N/A        N/A   Material Issue  \n",
       "4                        N/A        N/A   Material Issue  \n",
       "..                       ...        ...              ...  \n",
       "995                      N/A        N/A   Material Issue  \n",
       "996                      N/A        N/A   Material Issue  \n",
       "997                      N/A        N/A   Material Issue  \n",
       "998                      N/A        N/A   Material Issue  \n",
       "999                      N/A        N/A   Material Issue  \n",
       "\n",
       "[1000 rows x 6 columns]"
      ]
     },
     "execution_count": 50,
     "metadata": {},
     "output_type": "execute_result"
    }
   ],
   "source": [
    "features_df"
   ]
  },
  {
   "cell_type": "code",
   "execution_count": 52,
   "metadata": {},
   "outputs": [],
   "source": [
    "features_df.to_csv('final_test.csv',index=False)"
   ]
  },
  {
   "cell_type": "code",
   "execution_count": 53,
   "metadata": {},
   "outputs": [],
   "source": [
    "features_df = pd.read_csv('final_test.csv')"
   ]
  },
  {
   "cell_type": "code",
   "execution_count": 61,
   "metadata": {},
   "outputs": [
    {
     "data": {
      "text/html": [
       "<div>\n",
       "<style scoped>\n",
       "    .dataframe tbody tr th:only-of-type {\n",
       "        vertical-align: middle;\n",
       "    }\n",
       "\n",
       "    .dataframe tbody tr th {\n",
       "        vertical-align: top;\n",
       "    }\n",
       "\n",
       "    .dataframe thead th {\n",
       "        text-align: right;\n",
       "    }\n",
       "</style>\n",
       "<table border=\"1\" class=\"dataframe\">\n",
       "  <thead>\n",
       "    <tr style=\"text-align: right;\">\n",
       "      <th></th>\n",
       "      <th>Defective Component</th>\n",
       "      <th>Defective Part</th>\n",
       "      <th>Type of Failure</th>\n",
       "      <th>Number of Parts Replaced</th>\n",
       "      <th>Total Cost</th>\n",
       "      <th>Cause of Failure</th>\n",
       "    </tr>\n",
       "  </thead>\n",
       "  <tbody>\n",
       "    <tr>\n",
       "      <th>0</th>\n",
       "      <td>NaN</td>\n",
       "      <td>NaN</td>\n",
       "      <td>ADJUSTMENT</td>\n",
       "      <td>NaN</td>\n",
       "      <td>NaN</td>\n",
       "      <td>Material Issue</td>\n",
       "    </tr>\n",
       "    <tr>\n",
       "      <th>1</th>\n",
       "      <td>sensor</td>\n",
       "      <td>Sensor</td>\n",
       "      <td>NaN</td>\n",
       "      <td>NaN</td>\n",
       "      <td>NaN</td>\n",
       "      <td>Material Issue</td>\n",
       "    </tr>\n",
       "    <tr>\n",
       "      <th>2</th>\n",
       "      <td>HOSES</td>\n",
       "      <td>.</td>\n",
       "      <td>NaN</td>\n",
       "      <td>NaN</td>\n",
       "      <td>NaN</td>\n",
       "      <td>Material Issue</td>\n",
       "    </tr>\n",
       "    <tr>\n",
       "      <th>3</th>\n",
       "      <td>NaN</td>\n",
       "      <td>.</td>\n",
       "      <td>NaN</td>\n",
       "      <td>NaN</td>\n",
       "      <td>NaN</td>\n",
       "      <td>Material Issue</td>\n",
       "    </tr>\n",
       "    <tr>\n",
       "      <th>4</th>\n",
       "      <td>NaN</td>\n",
       "      <td>HOSE</td>\n",
       "      <td>NOISE</td>\n",
       "      <td>NaN</td>\n",
       "      <td>NaN</td>\n",
       "      <td>Material Issue</td>\n",
       "    </tr>\n",
       "    <tr>\n",
       "      <th>...</th>\n",
       "      <td>...</td>\n",
       "      <td>...</td>\n",
       "      <td>...</td>\n",
       "      <td>...</td>\n",
       "      <td>...</td>\n",
       "      <td>...</td>\n",
       "    </tr>\n",
       "    <tr>\n",
       "      <th>995</th>\n",
       "      <td>ENGINE</td>\n",
       "      <td>HOSE</td>\n",
       "      <td>NOISE</td>\n",
       "      <td>NaN</td>\n",
       "      <td>NaN</td>\n",
       "      <td>Material Issue</td>\n",
       "    </tr>\n",
       "    <tr>\n",
       "      <th>996</th>\n",
       "      <td>NaN</td>\n",
       "      <td>alternator</td>\n",
       "      <td>NaN</td>\n",
       "      <td>NaN</td>\n",
       "      <td>NaN</td>\n",
       "      <td>Material Issue</td>\n",
       "    </tr>\n",
       "    <tr>\n",
       "      <th>997</th>\n",
       "      <td>cables</td>\n",
       "      <td>socket</td>\n",
       "      <td>NaN</td>\n",
       "      <td>NaN</td>\n",
       "      <td>NaN</td>\n",
       "      <td>Material Issue</td>\n",
       "    </tr>\n",
       "    <tr>\n",
       "      <th>998</th>\n",
       "      <td>NaN</td>\n",
       "      <td>NaN</td>\n",
       "      <td>NaN</td>\n",
       "      <td>NaN</td>\n",
       "      <td>NaN</td>\n",
       "      <td>Material Issue</td>\n",
       "    </tr>\n",
       "    <tr>\n",
       "      <th>999</th>\n",
       "      <td>ENGINE</td>\n",
       "      <td>SENSOR</td>\n",
       "      <td>NaN</td>\n",
       "      <td>NaN</td>\n",
       "      <td>NaN</td>\n",
       "      <td>Material Issue</td>\n",
       "    </tr>\n",
       "  </tbody>\n",
       "</table>\n",
       "<p>1000 rows × 6 columns</p>\n",
       "</div>"
      ],
      "text/plain": [
       "    Defective Component Defective Part Type of Failure  \\\n",
       "0                   NaN            NaN      ADJUSTMENT   \n",
       "1                sensor         Sensor             NaN   \n",
       "2                 HOSES              .             NaN   \n",
       "3                   NaN              .             NaN   \n",
       "4                   NaN           HOSE           NOISE   \n",
       "..                  ...            ...             ...   \n",
       "995              ENGINE           HOSE           NOISE   \n",
       "996                 NaN     alternator             NaN   \n",
       "997              cables         socket             NaN   \n",
       "998                 NaN            NaN             NaN   \n",
       "999              ENGINE         SENSOR             NaN   \n",
       "\n",
       "     Number of Parts Replaced  Total Cost Cause of Failure  \n",
       "0                         NaN         NaN   Material Issue  \n",
       "1                         NaN         NaN   Material Issue  \n",
       "2                         NaN         NaN   Material Issue  \n",
       "3                         NaN         NaN   Material Issue  \n",
       "4                         NaN         NaN   Material Issue  \n",
       "..                        ...         ...              ...  \n",
       "995                       NaN         NaN   Material Issue  \n",
       "996                       NaN         NaN   Material Issue  \n",
       "997                       NaN         NaN   Material Issue  \n",
       "998                       NaN         NaN   Material Issue  \n",
       "999                       NaN         NaN   Material Issue  \n",
       "\n",
       "[1000 rows x 6 columns]"
      ]
     },
     "execution_count": 61,
     "metadata": {},
     "output_type": "execute_result"
    }
   ],
   "source": [
    "features_df"
   ]
  },
  {
   "cell_type": "code",
   "execution_count": null,
   "metadata": {},
   "outputs": [
    {
     "data": {
      "image/png": "[encoded data removed]",
      "text/plain": [
       "<Figure size 600x400 with 1 Axes>"
      ]
     },
     "metadata": {},
     "output_type": "display_data"
    },
    {
     "data": {
      "image/png": "[encoded data removed]",
      "text/plain": [
       "<Figure size 600x400 with 1 Axes>"
      ]
     },
     "metadata": {},
     "output_type": "display_data"
    },
    {
     "data": {
      "image/png": "[encoded data removed]",
      "text/plain": [
       "<Figure size 600x400 with 1 Axes>"
      ]
     },
     "metadata": {},
     "output_type": "display_data"
    },
    {
     "data": {
      "image/png": "[encoded data removed]",
      "text/plain": [
       "<Figure size 600x400 with 1 Axes>"
      ]
     },
     "metadata": {},
     "output_type": "display_data"
    },
    {
     "ename": "",
     "evalue": "",
     "output_type": "error",
     "traceback": [
      "\u001b[1;31mThe Kernel crashed while executing code in the current cell or a previous cell. \n",
      "\u001b[1;31mPlease review the code in the cell(s) to identify a possible cause of the failure. \n",
      "\u001b[1;31mClick <a href='https://aka.ms/vscodeJupyterKernelCrash'>here</a> for more info. \n",
      "\u001b[1;31mView Jupyter <a href='command:jupyter.viewOutput'>log</a> for further details."
     ]
    }
   ],
   "source": [
    "import pandas as pd\n",
    "import matplotlib.pyplot as plt\n",
    "\n",
    "# Load the dataset\n",
    "file_path = 'failure_results.csv'  # Replace with your actual file path\n",
    "df = pd.read_csv(file_path)\n",
    "\n",
    "# List of columns to analyze\n",
    "analyze = ['Cause_of_Failure','Human Error','Design Flaws','Material Issue']\n",
    "\n",
    "# Loop through each column and plot its distribution\n",
    "for column in analyze:\n",
    "    plt.figure(figsize=(6, 4))\n",
    "    # Count occurrences of each value in the column\n",
    "    value_counts = df[column].value_counts()\n",
    "    \n",
    "    # Plot the distribution\n",
    "    value_counts.plot(kind='bar', color='skyblue')\n",
    "    plt.title(f'Distribution of {column}', fontsize=8)\n",
    "    plt.xlabel(column, fontsize=14)\n",
    "    plt.ylabel('Number of Occurrences', fontsize=8)\n",
    "    plt.xticks(rotation=45, ha='right')\n",
    "    plt.tight_layout()\n",
    "    \n",
    "    # Show each plot\n",
    "    plt.show()\n"
   ]
  }
 ],
 "metadata": {
  "kernelspec": {
   "display_name": ".venv",
   "language": "python",
   "name": "python3"
  },
  "language_info": {
   "codemirror_mode": {
    "name": "ipython",
    "version": 3
   },
   "file_extension": ".py",
   "mimetype": "text/x-python",
   "name": "python",
   "nbconvert_exporter": "python",
   "pygments_lexer": "ipython3",
   "version": "3.11.9"
  }
 },
 "nbformat": 4,
 "nbformat_minor": 2
}
